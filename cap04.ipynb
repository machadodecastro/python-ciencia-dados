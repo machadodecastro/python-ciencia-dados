{
 "cells": [
  {
   "cell_type": "markdown",
   "metadata": {},
   "source": [
    "# <font color='blue'>Python para Ciência de Dados</font>\n",
    "# <font color='blue'>Capítulo 4</font>\n"
   ]
  },
  {
   "cell_type": "code",
   "execution_count": 1,
   "metadata": {},
   "outputs": [
    {
     "name": "stdout",
     "output_type": "stream",
     "text": [
      "Versão da Linguagem Python usada neste Jupyter Notebook: 3.10.12\n"
     ]
    }
   ],
   "source": [
    "# Versão da Linguagem Python\n",
    "from platform import python_version\n",
    "print('Versão da Linguagem Python usada neste Jupyter Notebook:', python_version())"
   ]
  },
  {
   "cell_type": "markdown",
   "metadata": {},
   "source": [
    "## Listas"
   ]
  },
  {
   "cell_type": "code",
   "execution_count": 2,
   "metadata": {},
   "outputs": [],
   "source": [
    "# Criando listas\n",
    "minha_lista = [1, 2, 3, 4, 5]\n",
    "outra_lista = ['a', 'b', 'c', 'd', 'e']\n",
    "lista_mista = [1, 'a', 2, 'b', 3, 'c']"
   ]
  },
  {
   "cell_type": "code",
   "execution_count": 16,
   "metadata": {},
   "outputs": [
    {
     "data": {
      "text/plain": [
       "[0, 1, 2, 3, 4, 5, 6, 7, 8, 9, 10, 11, 12, 13, 14]"
      ]
     },
     "execution_count": 16,
     "metadata": {},
     "output_type": "execute_result"
    }
   ],
   "source": [
    "# Criando uma lista dinâmica com 15 elementos\n",
    "numeros = list(range(15))\n",
    "\n",
    "numeros"
   ]
  },
  {
   "cell_type": "code",
   "execution_count": 3,
   "metadata": {},
   "outputs": [
    {
     "name": "stdout",
     "output_type": "stream",
     "text": [
      "10\n",
      "30\n"
     ]
    }
   ],
   "source": [
    "# Acessando elementos\n",
    "minha_lista = [10, 20, 30, 40, 50]\n",
    "print(minha_lista[0])   # 10\n",
    "print(minha_lista[2])   # 30"
   ]
  },
  {
   "cell_type": "code",
   "execution_count": 4,
   "metadata": {},
   "outputs": [
    {
     "name": "stdout",
     "output_type": "stream",
     "text": [
      "[1, 2, 10, 4, 5]\n"
     ]
    }
   ],
   "source": [
    "# Atualizando elementos\n",
    "minha_lista = [1, 2, 3, 4, 5]\n",
    "minha_lista[2] = 10\n",
    "print(minha_lista)   # [1, 2, 10, 4, 5]"
   ]
  },
  {
   "cell_type": "code",
   "execution_count": 6,
   "metadata": {},
   "outputs": [
    {
     "name": "stdout",
     "output_type": "stream",
     "text": [
      "[1, 2, 3, 4]\n",
      "[1, 5, 2, 3, 4]\n"
     ]
    }
   ],
   "source": [
    "# Adicionando elementos\n",
    "minha_lista = [1, 2, 3]\n",
    "minha_lista.append(4)\n",
    "print(minha_lista)   # [1, 2, 3, 4]\n",
    "\n",
    "minha_lista.insert(1, 5)\n",
    "print(minha_lista)   # [1, 5, 2, 3, 4] insere na posição 1 o elemento 5"
   ]
  },
  {
   "cell_type": "code",
   "execution_count": 7,
   "metadata": {},
   "outputs": [
    {
     "name": "stdout",
     "output_type": "stream",
     "text": [
      "[1, 2, 4, 5]\n",
      "4\n",
      "[1, 2, 5]\n"
     ]
    }
   ],
   "source": [
    "# Removendo elementos\n",
    "minha_lista = [1, 2, 3, 4, 5]\n",
    "minha_lista.remove(3)\n",
    "print(minha_lista)   # [1, 2, 4, 5]\n",
    "\n",
    "elemento_removido = minha_lista.pop(2)\n",
    "print(elemento_removido)   # 4\n",
    "print(minha_lista)   # [1, 2, 5]"
   ]
  },
  {
   "cell_type": "code",
   "execution_count": 8,
   "metadata": {},
   "outputs": [
    {
     "name": "stdout",
     "output_type": "stream",
     "text": [
      "[1, 2, 3, 4, 5, 6]\n",
      "[1, 2, 3, 1, 2, 3]\n",
      "True\n",
      "False\n"
     ]
    }
   ],
   "source": [
    "# Operações de listas\n",
    "lista1 = [1, 2, 3]\n",
    "lista2 = [4, 5, 6]\n",
    "lista3 = lista1 + lista2\n",
    "print(lista3)   # [1, 2, 3, 4, 5, 6]\n",
    "\n",
    "lista4 = lista1 * 2\n",
    "print(lista4)   # [1, 2, 3, 1, 2, 3]\n",
    "\n",
    "print(2 in lista1)   # True\n",
    "print(4 in lista1)   # False"
   ]
  },
  {
   "cell_type": "markdown",
   "metadata": {},
   "source": [
    "## Dicionários"
   ]
  },
  {
   "cell_type": "code",
   "execution_count": 10,
   "metadata": {},
   "outputs": [
    {
     "data": {
      "text/plain": [
       "{'nome': 'João', 'idade': 30, 'cidade': 'São Paulo'}"
      ]
     },
     "execution_count": 10,
     "metadata": {},
     "output_type": "execute_result"
    }
   ],
   "source": [
    "# Criando dicionário\n",
    "meu_dicionario = {'nome': 'João', 'idade': 30, 'cidade': 'São Paulo'}\n",
    "\n",
    "meu_dicionario"
   ]
  },
  {
   "cell_type": "code",
   "execution_count": 11,
   "metadata": {},
   "outputs": [
    {
     "name": "stdout",
     "output_type": "stream",
     "text": [
      "30\n"
     ]
    }
   ],
   "source": [
    "# Acessando valores\n",
    "print(meu_dicionario['idade'])   # 30"
   ]
  },
  {
   "cell_type": "code",
   "execution_count": 12,
   "metadata": {},
   "outputs": [
    {
     "name": "stdout",
     "output_type": "stream",
     "text": [
      "{'nome': 'João', 'idade': 30, 'cidade': 'São Paulo', 'profissao': 'Engenheiro'}\n",
      "{'nome': 'João', 'idade': 35, 'cidade': 'São Paulo', 'profissao': 'Engenheiro'}\n"
     ]
    }
   ],
   "source": [
    "# Adicionando e atualizando valores\n",
    "meu_dicionario['profissao'] = 'Engenheiro'\n",
    "print(meu_dicionario)   # {'nome': 'João', 'idade': 30, 'cidade': 'São Paulo', 'profissao': 'Engenheiro'}\n",
    "\n",
    "meu_dicionario['idade'] = 35\n",
    "print(meu_dicionario)   # {'nome': 'João', 'idade': 35, 'cidade': 'São Paulo', 'profissao': 'Engenheiro'}"
   ]
  },
  {
   "cell_type": "code",
   "execution_count": 13,
   "metadata": {},
   "outputs": [
    {
     "name": "stdout",
     "output_type": "stream",
     "text": [
      "{'nome': 'João', 'idade': 35, 'profissao': 'Engenheiro'}\n",
      "35\n",
      "{'nome': 'João', 'profissao': 'Engenheiro'}\n"
     ]
    }
   ],
   "source": [
    "# Removendo pares chave-valor\n",
    "del meu_dicionario['cidade']\n",
    "print(meu_dicionario)   # {'nome': 'João', 'idade': 35, 'profissao': 'Engenheiro'}\n",
    "\n",
    "valor_removido = meu_dicionario.pop('idade')\n",
    "print(valor_removido)   # 35\n",
    "print(meu_dicionario)   # {'nome': 'João', 'profissao': 'Engenheiro'}"
   ]
  },
  {
   "cell_type": "code",
   "execution_count": 14,
   "metadata": {},
   "outputs": [
    {
     "name": "stdout",
     "output_type": "stream",
     "text": [
      "dict_keys(['nome', 'profissao'])\n",
      "dict_values(['João', 'Engenheiro'])\n",
      "dict_items([('nome', 'João'), ('profissao', 'Engenheiro')])\n",
      "Chave não encontrada\n"
     ]
    }
   ],
   "source": [
    "# Métodos de dicionário\n",
    "print(meu_dicionario.keys())     # dict_keys(['nome', 'profissao'])\n",
    "\n",
    "\n",
    "print(meu_dicionario.values())   # dict_values(['João', 'Engenheiro'])\n",
    "\n",
    "\n",
    "print(meu_dicionario.items())    # dict_items([('nome', 'João'), ('profissao', 'Engenheiro')])\n",
    "\n",
    "print(meu_dicionario.get('idade', 'Chave não encontrada'))   # Chave não encontrada"
   ]
  },
  {
   "cell_type": "markdown",
   "metadata": {},
   "source": [
    "## Tuplas"
   ]
  },
  {
   "cell_type": "code",
   "execution_count": 17,
   "metadata": {},
   "outputs": [],
   "source": [
    "# Criando tuplas\n",
    "minha_tupla = (1, 2, 3, 4, 5)\n",
    "outra_tupla = ('a', 'b', 'c', 'd', 'e')"
   ]
  },
  {
   "cell_type": "code",
   "execution_count": 18,
   "metadata": {},
   "outputs": [
    {
     "name": "stdout",
     "output_type": "stream",
     "text": [
      "10\n",
      "30\n"
     ]
    }
   ],
   "source": [
    "# Acessando elementos\n",
    "minha_tupla = (10, 20, 30, 40, 50)\n",
    "print(minha_tupla[0])   # 10\n",
    "print(minha_tupla[2])   # 30"
   ]
  },
  {
   "cell_type": "code",
   "execution_count": 19,
   "metadata": {},
   "outputs": [
    {
     "name": "stdout",
     "output_type": "stream",
     "text": [
      "(3, 4, 5)\n"
     ]
    }
   ],
   "source": [
    "# Fatiando tuplas\n",
    "minha_tupla = (1, 2, 3, 4, 5)\n",
    "print(minha_tupla[2:5])   # (3, 4, 5)"
   ]
  },
  {
   "cell_type": "code",
   "execution_count": 20,
   "metadata": {},
   "outputs": [
    {
     "name": "stdout",
     "output_type": "stream",
     "text": [
      "(1, 2, 3, 4, 5, 6)\n",
      "(1, 2, 3, 1, 2, 3)\n",
      "True\n",
      "False\n"
     ]
    }
   ],
   "source": [
    "# Operações com tuplas\n",
    "tupla1 = (1, 2, 3)\n",
    "tupla2 = (4, 5, 6)\n",
    "tupla3 = tupla1 + tupla2\n",
    "print(tupla3)   # (1, 2, 3, 4, 5, 6)\n",
    "\n",
    "tupla4 = tupla1 * 2\n",
    "print(tupla4)   # (1, 2, 3, 1, 2, 3)\n",
    "\n",
    "print(2 in tupla1)   # True\n",
    "print(4 in tupla1)   # False"
   ]
  },
  {
   "cell_type": "code",
   "execution_count": 21,
   "metadata": {},
   "outputs": [
    {
     "name": "stdout",
     "output_type": "stream",
     "text": [
      "10\n",
      "20\n",
      "30\n"
     ]
    }
   ],
   "source": [
    "# Desempacotamento de tuplas\n",
    "minha_tupla = (10, 20, 30)\n",
    "a, b, c = minha_tupla\n",
    "print(a)   # 10\n",
    "print(b)   # 20\n",
    "print(c)   # 30"
   ]
  },
  {
   "cell_type": "markdown",
   "metadata": {},
   "source": [
    "### Variáveis"
   ]
  },
  {
   "cell_type": "code",
   "execution_count": 23,
   "metadata": {},
   "outputs": [
    {
     "name": "stdout",
     "output_type": "stream",
     "text": [
      "10\n"
     ]
    }
   ],
   "source": [
    "# Atribuição de valores a variáveis\n",
    "x = 10\n",
    "\n",
    "y = 15\n",
    "\n",
    "y = x\n",
    "\n",
    "print(y) \n"
   ]
  },
  {
   "cell_type": "markdown",
   "metadata": {},
   "source": [
    "### Operações com números flutuantes"
   ]
  },
  {
   "cell_type": "code",
   "execution_count": 24,
   "metadata": {},
   "outputs": [
    {
     "data": {
      "text/plain": [
       "11.8"
      ]
     },
     "execution_count": 24,
     "metadata": {},
     "output_type": "execute_result"
    }
   ],
   "source": [
    "4.3 + 7.5"
   ]
  },
  {
   "cell_type": "code",
   "execution_count": 25,
   "metadata": {},
   "outputs": [
    {
     "data": {
      "text/plain": [
       "9.0"
      ]
     },
     "execution_count": 25,
     "metadata": {},
     "output_type": "execute_result"
    }
   ],
   "source": [
    "6 + 3.0"
   ]
  },
  {
   "cell_type": "code",
   "execution_count": 27,
   "metadata": {},
   "outputs": [
    {
     "data": {
      "text/plain": [
       "5.0"
      ]
     },
     "execution_count": 27,
     "metadata": {},
     "output_type": "execute_result"
    }
   ],
   "source": [
    "# Resultado da divisão é um número float\n",
    "10 / 2"
   ]
  },
  {
   "cell_type": "code",
   "execution_count": 29,
   "metadata": {},
   "outputs": [
    {
     "data": {
      "text/plain": [
       "5"
      ]
     },
     "execution_count": 29,
     "metadata": {},
     "output_type": "execute_result"
    }
   ],
   "source": [
    "# Agora o resultado é um número inteiro\n",
    "10 // 2"
   ]
  },
  {
   "cell_type": "code",
   "execution_count": 31,
   "metadata": {},
   "outputs": [
    {
     "data": {
      "text/plain": [
       "1.3333333333333333"
      ]
     },
     "execution_count": 31,
     "metadata": {},
     "output_type": "execute_result"
    }
   ],
   "source": [
    "# Dízimas\n",
    "4 / 3.0"
   ]
  },
  {
   "cell_type": "code",
   "execution_count": 33,
   "metadata": {},
   "outputs": [
    {
     "data": {
      "text/plain": [
       "1.0"
      ]
     },
     "execution_count": 33,
     "metadata": {},
     "output_type": "execute_result"
    }
   ],
   "source": [
    "# Truncando a dízima\n",
    "4 // 3.0"
   ]
  },
  {
   "cell_type": "markdown",
   "metadata": {},
   "source": [
    "### Conversão para Hexadecimal e Binário"
   ]
  },
  {
   "cell_type": "code",
   "execution_count": 35,
   "metadata": {},
   "outputs": [
    {
     "data": {
      "text/plain": [
       "'0x127'"
      ]
     },
     "execution_count": 35,
     "metadata": {},
     "output_type": "execute_result"
    }
   ],
   "source": [
    "hex(295)"
   ]
  },
  {
   "cell_type": "code",
   "execution_count": 36,
   "metadata": {},
   "outputs": [
    {
     "data": {
      "text/plain": [
       "'0b100100111'"
      ]
     },
     "execution_count": 36,
     "metadata": {},
     "output_type": "execute_result"
    }
   ],
   "source": [
    "bin(295)"
   ]
  },
  {
   "cell_type": "markdown",
   "metadata": {},
   "source": [
    "### Função abs()"
   ]
  },
  {
   "cell_type": "code",
   "execution_count": 39,
   "metadata": {},
   "outputs": [
    {
     "data": {
      "text/plain": [
       "5"
      ]
     },
     "execution_count": 39,
     "metadata": {},
     "output_type": "execute_result"
    }
   ],
   "source": [
    "# Retorna o valor absoluto\n",
    "abs(-5)"
   ]
  },
  {
   "cell_type": "code",
   "execution_count": 40,
   "metadata": {},
   "outputs": [
    {
     "data": {
      "text/plain": [
       "5"
      ]
     },
     "execution_count": 40,
     "metadata": {},
     "output_type": "execute_result"
    }
   ],
   "source": [
    "abs(5)"
   ]
  },
  {
   "cell_type": "markdown",
   "metadata": {},
   "source": [
    "### Função round()"
   ]
  },
  {
   "cell_type": "code",
   "execution_count": 45,
   "metadata": {},
   "outputs": [
    {
     "data": {
      "text/plain": [
       "3.14"
      ]
     },
     "execution_count": 45,
     "metadata": {},
     "output_type": "execute_result"
    }
   ],
   "source": [
    "# Retorna o valor com arredondamento com 2 casas decimais\n",
    "round(3.14159265359,2)"
   ]
  },
  {
   "cell_type": "code",
   "execution_count": 46,
   "metadata": {},
   "outputs": [
    {
     "data": {
      "text/plain": [
       "3.1"
      ]
     },
     "execution_count": 46,
     "metadata": {},
     "output_type": "execute_result"
    }
   ],
   "source": [
    "# Retorna o valor com arredondamento com 1 casa decimal\n",
    "round(3.14159265359,1)"
   ]
  },
  {
   "cell_type": "markdown",
   "metadata": {},
   "source": [
    "### Função pow()"
   ]
  },
  {
   "cell_type": "code",
   "execution_count": 47,
   "metadata": {},
   "outputs": [
    {
     "data": {
      "text/plain": [
       "25"
      ]
     },
     "execution_count": 47,
     "metadata": {},
     "output_type": "execute_result"
    }
   ],
   "source": [
    "# Potência de 5 elevado a 2\n",
    "pow(5,2)"
   ]
  },
  {
   "cell_type": "code",
   "execution_count": 48,
   "metadata": {},
   "outputs": [
    {
     "data": {
      "text/plain": [
       "64"
      ]
     },
     "execution_count": 48,
     "metadata": {},
     "output_type": "execute_result"
    }
   ],
   "source": [
    "# Potência de 4 elevado a 3\n",
    "pow(4,3)"
   ]
  },
  {
   "cell_type": "markdown",
   "metadata": {},
   "source": [
    "### Operadores de Atribuição"
   ]
  },
  {
   "cell_type": "code",
   "execution_count": 53,
   "metadata": {},
   "outputs": [
    {
     "name": "stdout",
     "output_type": "stream",
     "text": [
      "10\n"
     ]
    }
   ],
   "source": [
    "# Atribuição simples\n",
    "x = 10\n",
    "\n",
    "print(x)"
   ]
  },
  {
   "cell_type": "code",
   "execution_count": 62,
   "metadata": {},
   "outputs": [
    {
     "name": "stdout",
     "output_type": "stream",
     "text": [
      "10\n"
     ]
    }
   ],
   "source": [
    "# Operador de Adição e Atribuição (+=)\n",
    "x = 5\n",
    "\n",
    "x += 5  # Equivalente a x = x + 5\n",
    "\n",
    "print(x)"
   ]
  },
  {
   "cell_type": "code",
   "execution_count": 74,
   "metadata": {},
   "outputs": [
    {
     "name": "stdout",
     "output_type": "stream",
     "text": [
      "4\n"
     ]
    }
   ],
   "source": [
    "# Operador de Subtração e Atribuição (-=)\n",
    "x = 7\n",
    "\n",
    "x -= 3  # Equivalente a x = x - 3\n",
    "\n",
    "print(x)"
   ]
  },
  {
   "cell_type": "code",
   "execution_count": 73,
   "metadata": {},
   "outputs": [
    {
     "name": "stdout",
     "output_type": "stream",
     "text": [
      "6\n"
     ]
    }
   ],
   "source": [
    "# Operador de Multiplicação e Atribuição (*=)\n",
    "x = 3\n",
    "\n",
    "x *= 2  # Equivalente a x = x * 2\n",
    "\n",
    "print(x)"
   ]
  },
  {
   "cell_type": "code",
   "execution_count": 69,
   "metadata": {},
   "outputs": [
    {
     "name": "stdout",
     "output_type": "stream",
     "text": [
      "2.0\n"
     ]
    }
   ],
   "source": [
    "# Operador de Divisão e Atribuição (/=)\n",
    "x = 8\n",
    "\n",
    "x /= 4  # Equivalente a x = x / 4\n",
    "\n",
    "print(x)"
   ]
  },
  {
   "cell_type": "code",
   "execution_count": 72,
   "metadata": {},
   "outputs": [
    {
     "name": "stdout",
     "output_type": "stream",
     "text": [
      "2\n"
     ]
    }
   ],
   "source": [
    "# Operador de Módulo e Atribuição (%=)\n",
    "x = 14\n",
    "\n",
    "x %= 3  # Equivalente a x = x % 3\n",
    "\n",
    "print(x)"
   ]
  },
  {
   "cell_type": "code",
   "execution_count": 67,
   "metadata": {},
   "outputs": [
    {
     "name": "stdout",
     "output_type": "stream",
     "text": [
      "25\n"
     ]
    }
   ],
   "source": [
    "# Operador de Exponenciação e Atribuição (**=)\n",
    "x = 5\n",
    "\n",
    "x **= 2  # Equivalente a x = x ** 2\n",
    "\n",
    "print(x)"
   ]
  },
  {
   "cell_type": "code",
   "execution_count": 70,
   "metadata": {},
   "outputs": [
    {
     "name": "stdout",
     "output_type": "stream",
     "text": [
      "3\n"
     ]
    }
   ],
   "source": [
    "# Operador de Divisão Inteira e Atribuição (//=)\n",
    "x = 9\n",
    "\n",
    "x //= 3  # Equivalente a x = x // 3\n",
    "\n",
    "print(x)"
   ]
  },
  {
   "cell_type": "markdown",
   "metadata": {},
   "source": [
    "## Trabalhando com Strings"
   ]
  },
  {
   "cell_type": "code",
   "execution_count": 75,
   "metadata": {},
   "outputs": [
    {
     "data": {
      "text/plain": [
       "'n'"
      ]
     },
     "execution_count": 75,
     "metadata": {},
     "output_type": "execute_result"
    }
   ],
   "source": [
    "# Acessando caracteres\n",
    "s = 'Python'\n",
    "\n",
    "s[5]"
   ]
  },
  {
   "cell_type": "code",
   "execution_count": 77,
   "metadata": {},
   "outputs": [
    {
     "data": {
      "text/plain": [
       "'Pytho'"
      ]
     },
     "execution_count": 77,
     "metadata": {},
     "output_type": "execute_result"
    }
   ],
   "source": [
    "s[0:5]"
   ]
  },
  {
   "cell_type": "code",
   "execution_count": 78,
   "metadata": {},
   "outputs": [
    {
     "data": {
      "text/plain": [
       "'Python'"
      ]
     },
     "execution_count": 78,
     "metadata": {},
     "output_type": "execute_result"
    }
   ],
   "source": [
    "s[0:6]"
   ]
  },
  {
   "cell_type": "code",
   "execution_count": 79,
   "metadata": {},
   "outputs": [
    {
     "name": "stdout",
     "output_type": "stream",
     "text": [
      "Olá mundo\n"
     ]
    }
   ],
   "source": [
    "# Concatenando strings\n",
    "s1 = \"Olá\"\n",
    "s2 = \"mundo\"\n",
    "s3 = s1 + \" \" + s2\n",
    "print(s3)"
   ]
  },
  {
   "cell_type": "code",
   "execution_count": 80,
   "metadata": {},
   "outputs": [
    {
     "name": "stdout",
     "output_type": "stream",
     "text": [
      "6\n"
     ]
    }
   ],
   "source": [
    "# Comprimento da string\n",
    "s = \"Python\"\n",
    "print(len(s)) "
   ]
  },
  {
   "cell_type": "code",
   "execution_count": 81,
   "metadata": {},
   "outputs": [
    {
     "name": "stdout",
     "output_type": "stream",
     "text": [
      "tho\n"
     ]
    }
   ],
   "source": [
    "# Fatiando a string - slicing\n",
    "s = \"Python\"\n",
    "print(s[2:5])"
   ]
  },
  {
   "cell_type": "code",
   "execution_count": 82,
   "metadata": {},
   "outputs": [
    {
     "name": "stdout",
     "output_type": "stream",
     "text": [
      "PYTHON\n",
      "Python\n",
      "python\n"
     ]
    }
   ],
   "source": [
    "# Métodos de strings\n",
    "s = \"python\"\n",
    "print(s.upper())      # \"PYTHON\"\n",
    "print(s.capitalize()) # \"Python\"\n",
    "print(s.strip())      # \"python\" (remove espaços em branco extras no início e no final)"
   ]
  },
  {
   "cell_type": "code",
   "execution_count": 83,
   "metadata": {},
   "outputs": [
    {
     "name": "stdout",
     "output_type": "stream",
     "text": [
      "Meu nome é João e tenho 30 anos.\n"
     ]
    }
   ],
   "source": [
    "# Formatando strings\n",
    "nome = \"João\"\n",
    "idade = 30\n",
    "print(f\"Meu nome é {nome} e tenho {idade} anos.\")"
   ]
  },
  {
   "cell_type": "markdown",
   "metadata": {},
   "source": [
    "# Fim"
   ]
  }
 ],
 "metadata": {
  "anaconda-cloud": {},
  "kernelspec": {
   "display_name": "Python 3 (ipykernel)",
   "language": "python",
   "name": "python3"
  },
  "language_info": {
   "codemirror_mode": {
    "name": "ipython",
    "version": 3
   },
   "file_extension": ".py",
   "mimetype": "text/x-python",
   "name": "python",
   "nbconvert_exporter": "python",
   "pygments_lexer": "ipython3",
   "version": "3.10.12"
  }
 },
 "nbformat": 4,
 "nbformat_minor": 1
}
