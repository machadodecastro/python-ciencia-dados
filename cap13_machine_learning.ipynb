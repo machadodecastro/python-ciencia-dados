{
 "cells": [
  {
   "cell_type": "markdown",
   "metadata": {},
   "source": [
    "# <font color='blue'>Python para Ciência de Dados</font>\n",
    "# <font color='blue'>Capítulo 13</font>\n"
   ]
  },
  {
   "cell_type": "code",
   "execution_count": 1,
   "metadata": {},
   "outputs": [
    {
     "name": "stdout",
     "output_type": "stream",
     "text": [
      "Versão da Linguagem Python usada neste Jupyter Notebook: 3.10.12\n"
     ]
    }
   ],
   "source": [
    "# Versão da Linguagem Python\n",
    "from platform import python_version\n",
    "print('Versão da Linguagem Python usada neste Jupyter Notebook:', python_version())"
   ]
  },
  {
   "cell_type": "markdown",
   "metadata": {},
   "source": [
    "# Introdução Machine Learning"
   ]
  },
  {
   "cell_type": "markdown",
   "metadata": {},
   "source": [
    "## Regressão"
   ]
  },
  {
   "cell_type": "markdown",
   "metadata": {},
   "source": [
    "### Regressão Linear Simples"
   ]
  },
  {
   "cell_type": "code",
   "execution_count": 1,
   "metadata": {},
   "outputs": [
    {
     "name": "stdout",
     "output_type": "stream",
     "text": [
      "[5.8 6.4]\n"
     ]
    }
   ],
   "source": [
    "from sklearn.linear_model import LinearRegression\n",
    "\n",
    "# Dados de exemplo\n",
    "X = [[1], [2], [3], [4], [5]]\n",
    "y = [2, 4, 5, 4, 5]\n",
    "\n",
    "# Criar e treinar o modelo\n",
    "modelo = LinearRegression()\n",
    "modelo.fit(X, y)\n",
    "\n",
    "# Prever novos valores\n",
    "novos_valores = [[6], [7]]\n",
    "predicoes = modelo.predict(novos_valores)\n",
    "print(predicoes)"
   ]
  },
  {
   "cell_type": "markdown",
   "metadata": {},
   "source": [
    "### Regressão Linear Múltipla"
   ]
  },
  {
   "cell_type": "code",
   "execution_count": 2,
   "metadata": {},
   "outputs": [
    {
     "name": "stdout",
     "output_type": "stream",
     "text": [
      "[5.8 6.4]\n"
     ]
    }
   ],
   "source": [
    "# Dados de exemplo\n",
    "X = [[1, 2], [2, 3], [3, 4], [4, 5], [5, 6]]\n",
    "y = [2, 4, 5, 4, 5]\n",
    "\n",
    "# Criar e treinar o modelo\n",
    "modelo = LinearRegression()\n",
    "modelo.fit(X, y)\n",
    "\n",
    "# Prever novos valores\n",
    "novos_valores = [[6, 7], [7, 8]]\n",
    "predicoes = modelo.predict(novos_valores)\n",
    "print(predicoes)"
   ]
  },
  {
   "cell_type": "markdown",
   "metadata": {},
   "source": [
    "### Regressão Ridge"
   ]
  },
  {
   "cell_type": "code",
   "execution_count": 3,
   "metadata": {},
   "outputs": [
    {
     "name": "stdout",
     "output_type": "stream",
     "text": [
      "[5.78217822 6.37623762]\n"
     ]
    }
   ],
   "source": [
    "from sklearn.linear_model import Ridge\n",
    "\n",
    "# Dados de exemplo\n",
    "X = [[1], [2], [3], [4], [5]]\n",
    "y = [2, 4, 5, 4, 5]\n",
    "\n",
    "# Criar e treinar o modelo\n",
    "modelo = Ridge(alpha=0.1) # Alpha é o parâmetro de regularização\n",
    "modelo.fit(X, y)\n",
    "\n",
    "# Prever novos valores\n",
    "novos_valores = [[6], [7]]\n",
    "predicoes = modelo.predict(novos_valores)\n",
    "print(predicoes)\n"
   ]
  },
  {
   "cell_type": "markdown",
   "metadata": {},
   "source": [
    "### Regressão Lasso"
   ]
  },
  {
   "cell_type": "code",
   "execution_count": 4,
   "metadata": {},
   "outputs": [
    {
     "name": "stdout",
     "output_type": "stream",
     "text": [
      "[5.65 6.2 ]\n"
     ]
    }
   ],
   "source": [
    "from sklearn.linear_model import Lasso\n",
    "\n",
    "# Dados de exemplo\n",
    "X = [[1], [2], [3], [4], [5]]\n",
    "y = [2, 4, 5, 4, 5]\n",
    "\n",
    "# Criar e treinar o modelo\n",
    "modelo = Lasso(alpha=0.1) # Alpha é o parâmetro de regularização\n",
    "modelo.fit(X, y)\n",
    "\n",
    "# Prever novos valores\n",
    "novos_valores = [[6], [7]]\n",
    "predicoes = modelo.predict(novos_valores)\n",
    "print(predicoes)\n"
   ]
  },
  {
   "cell_type": "markdown",
   "metadata": {},
   "source": [
    "## Classificação"
   ]
  },
  {
   "cell_type": "markdown",
   "metadata": {},
   "source": [
    "### Naive Bayes"
   ]
  },
  {
   "cell_type": "code",
   "execution_count": 20,
   "metadata": {},
   "outputs": [
    {
     "name": "stdout",
     "output_type": "stream",
     "text": [
      "Precisão: 0.9666666666666667\n"
     ]
    }
   ],
   "source": [
    "from sklearn.naive_bayes import GaussianNB\n",
    "from sklearn.datasets import load_iris\n",
    "from sklearn.model_selection import train_test_split\n",
    "from sklearn.metrics import accuracy_score\n",
    "\n",
    "# Carregar conjunto de dados de exemplo\n",
    "iris = load_iris()\n",
    "X = iris.data\n",
    "y = iris.target\n",
    "\n",
    "# Dividir dados em conjunto de treinamento e teste\n",
    "X_train, X_test, y_train, y_test = train_test_split(X, y, test_size=0.2, random_state=0)\n",
    "\n",
    "# Criar e treinar o modelo\n",
    "modelo = GaussianNB()\n",
    "modelo.fit(X_train, y_train)\n",
    "\n",
    "# Fazer previsões\n",
    "predicoes = modelo.predict(X_test)\n",
    "\n",
    "# Avaliar a precisão do modelo\n",
    "precisao = accuracy_score(y_test, predicoes)\n",
    "print(\"Precisão:\", precisao)"
   ]
  },
  {
   "cell_type": "code",
   "execution_count": null,
   "metadata": {},
   "outputs": [],
   "source": [
    "### Árvores de Decisão"
   ]
  },
  {
   "cell_type": "code",
   "execution_count": 26,
   "metadata": {},
   "outputs": [
    {
     "name": "stdout",
     "output_type": "stream",
     "text": [
      "Precisão: 1.0\n"
     ]
    }
   ],
   "source": [
    "from sklearn.tree import DecisionTreeClassifier\n",
    "\n",
    "# Criar e treinar o modelo\n",
    "modelo = DecisionTreeClassifier()\n",
    "\n",
    "modelo.fit(X_train, y_train)\n",
    "\n",
    "# Fazer previsões\n",
    "predicoes = modelo.predict(X_test)\n",
    "\n",
    "# Avaliar a precisão do modelo\n",
    "precisao = accuracy_score(y_test, predicoes)\n",
    "print(\"Precisão:\", precisao)"
   ]
  },
  {
   "cell_type": "markdown",
   "metadata": {},
   "source": [
    "### Random Forest"
   ]
  },
  {
   "cell_type": "code",
   "execution_count": 27,
   "metadata": {},
   "outputs": [
    {
     "name": "stdout",
     "output_type": "stream",
     "text": [
      "Precisão: 0.9666666666666667\n"
     ]
    }
   ],
   "source": [
    "from sklearn.ensemble import RandomForestClassifier\n",
    "\n",
    "# Criar e treinar o modelo\n",
    "modelo = RandomForestClassifier()\n",
    "modelo.fit(X_train, y_train)\n",
    "\n",
    "# Fazer previsões\n",
    "predicoes = modelo.predict(X_test)\n",
    "\n",
    "# Avaliar a precisão do modelo\n",
    "precisao = accuracy_score(y_test, predicoes)\n",
    "print(\"Precisão:\", precisao)"
   ]
  },
  {
   "cell_type": "markdown",
   "metadata": {},
   "source": [
    "### Gradient Boosting"
   ]
  },
  {
   "cell_type": "code",
   "execution_count": 34,
   "metadata": {},
   "outputs": [
    {
     "name": "stdout",
     "output_type": "stream",
     "text": [
      "Precisão: 1.0\n"
     ]
    }
   ],
   "source": [
    "from sklearn.datasets import load_iris\n",
    "from sklearn.model_selection import train_test_split\n",
    "from sklearn.metrics import accuracy_score\n",
    "from sklearn.ensemble import GradientBoostingClassifier\n",
    "\n",
    "# Carregar o conjunto de dados\n",
    "iris = load_iris()\n",
    "X = iris.data\n",
    "y = iris.target\n",
    "\n",
    "# Dividir o conjunto de dados em treino e teste\n",
    "X_train, X_test, y_train, y_test = train_test_split(X, y, test_size=0.2, random_state=42)\n",
    "\n",
    "# Criar e treinar o modelo Gradient Boosting\n",
    "modelo = GradientBoostingClassifier(n_estimators=100, learning_rate=0.1, max_depth=3, random_state=42)\n",
    "modelo.fit(X_train, y_train)\n",
    "\n",
    "# Fazer previsões\n",
    "previsoes = modelo.predict(X_test)\n",
    "\n",
    "# Calcular a precisão do modelo\n",
    "precisao = accuracy_score(y_test, previsoes)\n",
    "print(\"Precisão:\", precisao)"
   ]
  },
  {
   "cell_type": "markdown",
   "metadata": {},
   "source": [
    "### XGBoost (Extreme Gradient Boosting) "
   ]
  },
  {
   "cell_type": "code",
   "execution_count": 36,
   "metadata": {},
   "outputs": [
    {
     "name": "stdout",
     "output_type": "stream",
     "text": [
      "Defaulting to user installation because normal site-packages is not writeable\n",
      "Collecting xgboost\n",
      "  Downloading xgboost-2.0.3-py3-none-manylinux2014_x86_64.whl (297.1 MB)\n",
      "\u001b[2K     \u001b[38;2;114;156;31m━━━━━━━━━━━━━━━━━━━━━━━━━━━━━━━━━━━━━━━\u001b[0m \u001b[32m297.1/297.1 MB\u001b[0m \u001b[31m2.1 MB/s\u001b[0m eta \u001b[36m0:00:00\u001b[0mm eta \u001b[36m0:00:01\u001b[0m[36m0:00:01\u001b[0m\n",
      "\u001b[?25hRequirement already satisfied: scipy in /home/igor/.local/lib/python3.10/site-packages (from xgboost) (1.9.3)\n",
      "Requirement already satisfied: numpy in /home/igor/.local/lib/python3.10/site-packages (from xgboost) (1.23.4)\n",
      "Installing collected packages: xgboost\n",
      "Successfully installed xgboost-2.0.3\n",
      "\n",
      "\u001b[1m[\u001b[0m\u001b[34;49mnotice\u001b[0m\u001b[1;39;49m]\u001b[0m\u001b[39;49m A new release of pip available: \u001b[0m\u001b[31;49m22.3.1\u001b[0m\u001b[39;49m -> \u001b[0m\u001b[32;49m24.0\u001b[0m\n",
      "\u001b[1m[\u001b[0m\u001b[34;49mnotice\u001b[0m\u001b[1;39;49m]\u001b[0m\u001b[39;49m To update, run: \u001b[0m\u001b[32;49m/usr/bin/python3 -m pip install --upgrade pip\u001b[0m\n"
     ]
    }
   ],
   "source": [
    "# Instalando a biblioteca xgboost\n",
    "#!pip install xgboost"
   ]
  },
  {
   "cell_type": "code",
   "execution_count": 37,
   "metadata": {},
   "outputs": [
    {
     "name": "stdout",
     "output_type": "stream",
     "text": [
      "Precisão: 1.0\n"
     ]
    }
   ],
   "source": [
    "import xgboost as xgb\n",
    "from sklearn.datasets import load_iris\n",
    "from sklearn.model_selection import train_test_split\n",
    "from sklearn.metrics import accuracy_score\n",
    "\n",
    "# Carregar o conjunto de dados\n",
    "iris = load_iris()\n",
    "X = iris.data\n",
    "y = iris.target\n",
    "\n",
    "# Dividir o conjunto de dados em treino e teste\n",
    "X_train, X_test, y_train, y_test = train_test_split(X, y, test_size=0.2, random_state=42)\n",
    "\n",
    "# Criar o objeto DMatrix (necessário para o XGBoost)\n",
    "dtrain = xgb.DMatrix(X_train, label=y_train)\n",
    "dtest = xgb.DMatrix(X_test, label=y_test)\n",
    "\n",
    "# Definir os parâmetros do modelo\n",
    "parametros = {\n",
    " 'max_depth': 3, # Profundidade máxima da árvore\n",
    " 'eta': 0.3, # Taxa de aprendizado\n",
    " 'objective': 'multi:softmax', # Função de perda para problemas de classificação multiclasse\n",
    " 'num_class': 3 # Número de classes no conjunto de dados\n",
    "}\n",
    "\n",
    "# Treinar o modelo\n",
    "num_round = 100\n",
    "modelo = xgb.train(parametros, dtrain, num_round)\n",
    "\n",
    "# Fazer previsões\n",
    "previsoes = modelo.predict(dtest)\n",
    "\n",
    "# Calcular a precisão do modelo\n",
    "precisao = accuracy_score(y_test, previsoes)\n",
    "print(\"Precisão:\", precisao)"
   ]
  },
  {
   "cell_type": "markdown",
   "metadata": {},
   "source": [
    "### Support Vector Machine (SVM)"
   ]
  },
  {
   "cell_type": "code",
   "execution_count": 38,
   "metadata": {},
   "outputs": [
    {
     "name": "stdout",
     "output_type": "stream",
     "text": [
      "Precisão: 1.0\n"
     ]
    }
   ],
   "source": [
    "from sklearn.svm import SVC\n",
    "\n",
    "# Criar e treinar o modelo\n",
    "modelo = SVC()\n",
    "modelo.fit(X_train, y_train)\n",
    "\n",
    "# Fazer previsões\n",
    "predicoes = modelo.predict(X_test)\n",
    "\n",
    "# Avaliar a precisão do modelo\n",
    "precisao = accuracy_score(y_test, predicoes)\n",
    "print(\"Precisão:\", precisao)"
   ]
  },
  {
   "cell_type": "markdown",
   "metadata": {},
   "source": [
    "### K-Nearest Neighbors (KNN)"
   ]
  },
  {
   "cell_type": "code",
   "execution_count": 39,
   "metadata": {},
   "outputs": [
    {
     "name": "stdout",
     "output_type": "stream",
     "text": [
      "Precisão: 1.0\n"
     ]
    }
   ],
   "source": [
    "from sklearn.neighbors import KNeighborsClassifier\n",
    "from sklearn.datasets import load_iris\n",
    "from sklearn.model_selection import train_test_split\n",
    "from sklearn.metrics import accuracy_score\n",
    "\n",
    "# Carregar o conjunto de dados Iris\n",
    "iris = load_iris()\n",
    "X = iris.data\n",
    "y = iris.target\n",
    "\n",
    "# Dividir os dados em conjunto de treinamento e teste\n",
    "X_train, X_test, y_train, y_test = train_test_split(X, y, test_size=0.2, random_state=42)\n",
    "\n",
    "# Criar e treinar o modelo KNN\n",
    "modelo = KNeighborsClassifier(n_neighbors=5)  # k=5 (por exemplo)\n",
    "modelo.fit(X_train, y_train)\n",
    "\n",
    "# Fazer previsões\n",
    "previsoes = modelo.predict(X_test)\n",
    "\n",
    "# Calcular a precisão do modelo\n",
    "precisao = accuracy_score(y_test, previsoes)\n",
    "print(\"Precisão:\", precisao)"
   ]
  },
  {
   "cell_type": "markdown",
   "metadata": {},
   "source": [
    "### Rede Neural Artificial (ANN)"
   ]
  },
  {
   "cell_type": "code",
   "execution_count": 40,
   "metadata": {},
   "outputs": [
    {
     "name": "stdout",
     "output_type": "stream",
     "text": [
      "Precisão: 1.0\n"
     ]
    }
   ],
   "source": [
    "from sklearn.datasets import load_iris\n",
    "from sklearn.model_selection import train_test_split\n",
    "from sklearn.preprocessing import StandardScaler\n",
    "from sklearn.neural_network import MLPClassifier\n",
    "from sklearn.metrics import accuracy_score\n",
    "\n",
    "# Carregar o conjunto de dados Iris\n",
    "iris = load_iris()\n",
    "X = iris.data\n",
    "y = iris.target\n",
    "\n",
    "# Dividir os dados em conjunto de treinamento e teste\n",
    "X_train, X_test, y_train, y_test = train_test_split(X, y, test_size=0.2, random_state=42)\n",
    "\n",
    "# Pré-processamento dos dados: normalização\n",
    "scaler = StandardScaler()\n",
    "X_train_scaled = scaler.fit_transform(X_train)\n",
    "X_test_scaled = scaler.transform(X_test)\n",
    "\n",
    "# Criar e treinar o modelo de rede neural\n",
    "modelo = MLPClassifier(hidden_layer_sizes=(10, 5), activation='relu', max_iter=1000, random_state=42)\n",
    "modelo.fit(X_train_scaled, y_train)\n",
    "\n",
    "# Fazer previsões\n",
    "previsoes = modelo.predict(X_test_scaled)\n",
    "\n",
    "# Calcular a precisão do modelo\n",
    "precisao = accuracy_score(y_test, previsoes)\n",
    "print(\"Precisão:\", precisao)\n"
   ]
  },
  {
   "cell_type": "markdown",
   "metadata": {},
   "source": [
    "## Fim"
   ]
  },
  {
   "cell_type": "code",
   "execution_count": null,
   "metadata": {},
   "outputs": [],
   "source": []
  }
 ],
 "metadata": {
  "anaconda-cloud": {},
  "kernelspec": {
   "display_name": "Python 3 (ipykernel)",
   "language": "python",
   "name": "python3"
  },
  "language_info": {
   "codemirror_mode": {
    "name": "ipython",
    "version": 3
   },
   "file_extension": ".py",
   "mimetype": "text/x-python",
   "name": "python",
   "nbconvert_exporter": "python",
   "pygments_lexer": "ipython3",
   "version": "3.10.12"
  }
 },
 "nbformat": 4,
 "nbformat_minor": 1
}
