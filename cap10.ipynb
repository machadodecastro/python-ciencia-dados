{
 "cells": [
  {
   "cell_type": "markdown",
   "metadata": {},
   "source": [
    "# <font color='blue'>Python para Ciência de Dados</font>\n",
    "# <font color='blue'>Capítulo 10</font>\n"
   ]
  },
  {
   "cell_type": "code",
   "execution_count": 21,
   "metadata": {},
   "outputs": [
    {
     "name": "stdout",
     "output_type": "stream",
     "text": [
      "Versão da Linguagem Python usada neste Jupyter Notebook: 3.10.12\n"
     ]
    }
   ],
   "source": [
    "# Versão da Linguagem Python\n",
    "from platform import python_version\n",
    "print('Versão da Linguagem Python usada neste Jupyter Notebook:', python_version())"
   ]
  },
  {
   "cell_type": "markdown",
   "metadata": {},
   "source": [
    "## Banco de Dados"
   ]
  },
  {
   "cell_type": "markdown",
   "metadata": {},
   "source": [
    "### SQLite3"
   ]
  },
  {
   "cell_type": "code",
   "execution_count": 2,
   "metadata": {},
   "outputs": [
    {
     "name": "stdout",
     "output_type": "stream",
     "text": [
      "[(1, 'João', 30)]\n"
     ]
    }
   ],
   "source": [
    "import sqlite3\n",
    "\n",
    "# Conectando-se ao banco de dados (será criado se não existir)\n",
    "conn = sqlite3.connect('databases/exemplo.db')\n",
    "\n",
    "# Criando um cursor\n",
    "cursor = conn.cursor()\n",
    "\n",
    "# Criando uma tabela\n",
    "cursor.execute('''CREATE TABLE IF NOT EXISTS usuarios (id INTEGER PRIMARY KEY, nome TEXT, idade INTEGER)''')\n",
    "\n",
    "# Inserindo dados\n",
    "cursor.execute(\"INSERT INTO usuarios (nome, idade) VALUES (?, ?)\", (\"João\", 30))\n",
    "\n",
    "# Salvando as alterações\n",
    "conn.commit()\n",
    "\n",
    "# Consultando dados\n",
    "cursor.execute(\"SELECT * FROM usuarios\")\n",
    "print(cursor.fetchall())\n",
    "\n",
    "# Fechando a conexão\n",
    "conn.close()"
   ]
  },
  {
   "cell_type": "code",
   "execution_count": 3,
   "metadata": {},
   "outputs": [
    {
     "name": "stdout",
     "output_type": "stream",
     "text": [
      "(1, 'João', 13)\n",
      "(2, 'Maria', 11)\n"
     ]
    }
   ],
   "source": [
    "import sqlite3\n",
    "\n",
    "# Conectando-se ao banco de dados (será criado se não existir)\n",
    "conn = sqlite3.connect('databases/escola.db')\n",
    "\n",
    "# Criando um cursor para executar comandos SQL\n",
    "cursor = conn.cursor()\n",
    "\n",
    "# Criando uma tabela\n",
    "cursor.execute('''CREATE TABLE IF NOT EXISTS alunos (\n",
    "                    id INTEGER PRIMARY KEY,\n",
    "                    nome TEXT,\n",
    "                    idade INTEGER\n",
    "                )''')\n",
    "\n",
    "# Inserindo dados\n",
    "cursor.execute(\"INSERT INTO alunos (nome, idade) VALUES (?, ?)\", (\"João\", 13))\n",
    "cursor.execute(\"INSERT INTO alunos (nome, idade) VALUES (?, ?)\", (\"Maria\", 11))\n",
    "\n",
    "# Salvando as alterações\n",
    "conn.commit()\n",
    "\n",
    "# Consultando dados\n",
    "cursor.execute(\"SELECT * FROM alunos\")\n",
    "for row in cursor.fetchall():\n",
    "    print(row)\n",
    "\n",
    "# Fechando a conexão\n",
    "conn.close()"
   ]
  },
  {
   "cell_type": "markdown",
   "metadata": {},
   "source": [
    "### SQLAlchemy"
   ]
  },
  {
   "cell_type": "code",
   "execution_count": 5,
   "metadata": {},
   "outputs": [
    {
     "name": "stdout",
     "output_type": "stream",
     "text": [
      "Defaulting to user installation because normal site-packages is not writeable\n",
      "Requirement already satisfied: sqlalchemy in /home/igor/.local/lib/python3.10/site-packages (2.0.27)\n",
      "Requirement already satisfied: greenlet!=0.4.17 in /home/igor/.local/lib/python3.10/site-packages (from sqlalchemy) (3.0.3)\n",
      "Requirement already satisfied: typing-extensions>=4.6.0 in /home/igor/.local/lib/python3.10/site-packages (from sqlalchemy) (4.9.0)\n",
      "\n",
      "\u001b[1m[\u001b[0m\u001b[34;49mnotice\u001b[0m\u001b[1;39;49m]\u001b[0m\u001b[39;49m A new release of pip available: \u001b[0m\u001b[31;49m22.3.1\u001b[0m\u001b[39;49m -> \u001b[0m\u001b[32;49m24.0\u001b[0m\n",
      "\u001b[1m[\u001b[0m\u001b[34;49mnotice\u001b[0m\u001b[1;39;49m]\u001b[0m\u001b[39;49m To update, run: \u001b[0m\u001b[32;49m/usr/bin/python3 -m pip install --upgrade pip\u001b[0m\n"
     ]
    }
   ],
   "source": [
    "# Instala o pacote do SQLAlchemy\n",
    "\n",
    "# Retire o comentário para instalar o pacote\n",
    "# !pip install sqlalchemy"
   ]
  },
  {
   "cell_type": "code",
   "execution_count": 6,
   "metadata": {},
   "outputs": [
    {
     "name": "stdout",
     "output_type": "stream",
     "text": [
      "2024-02-14 11:33:18,975 INFO sqlalchemy.engine.Engine BEGIN (implicit)\n",
      "2024-02-14 11:33:18,976 INFO sqlalchemy.engine.Engine PRAGMA main.table_info(\"usuarios\")\n",
      "2024-02-14 11:33:18,977 INFO sqlalchemy.engine.Engine [raw sql] ()\n",
      "2024-02-14 11:33:18,978 INFO sqlalchemy.engine.Engine PRAGMA temp.table_info(\"usuarios\")\n",
      "2024-02-14 11:33:18,979 INFO sqlalchemy.engine.Engine [raw sql] ()\n",
      "2024-02-14 11:33:18,980 INFO sqlalchemy.engine.Engine \n",
      "CREATE TABLE usuarios (\n",
      "\tid INTEGER NOT NULL, \n",
      "\tnome VARCHAR, \n",
      "\tidade INTEGER, \n",
      "\tPRIMARY KEY (id)\n",
      ")\n",
      "\n",
      "\n",
      "2024-02-14 11:33:18,980 INFO sqlalchemy.engine.Engine [no key 0.00050s] ()\n"
     ]
    },
    {
     "name": "stderr",
     "output_type": "stream",
     "text": [
      "/tmp/ipykernel_1678437/2386527590.py:9: MovedIn20Warning: The ``declarative_base()`` function is now available as sqlalchemy.orm.declarative_base(). (deprecated since: 2.0) (Background on SQLAlchemy 2.0 at: https://sqlalche.me/e/b8d9)\n",
      "  Base = declarative_base()\n"
     ]
    },
    {
     "name": "stdout",
     "output_type": "stream",
     "text": [
      "2024-02-14 11:33:19,368 INFO sqlalchemy.engine.Engine COMMIT\n",
      "2024-02-14 11:33:19,376 INFO sqlalchemy.engine.Engine BEGIN (implicit)\n",
      "2024-02-14 11:33:19,378 INFO sqlalchemy.engine.Engine INSERT INTO usuarios (nome, idade) VALUES (?, ?)\n",
      "2024-02-14 11:33:19,379 INFO sqlalchemy.engine.Engine [generated in 0.00094s] ('Maria', 25)\n",
      "2024-02-14 11:33:19,382 INFO sqlalchemy.engine.Engine COMMIT\n",
      "2024-02-14 11:33:19,700 INFO sqlalchemy.engine.Engine BEGIN (implicit)\n",
      "2024-02-14 11:33:19,704 INFO sqlalchemy.engine.Engine SELECT usuarios.id AS usuarios_id, usuarios.nome AS usuarios_nome, usuarios.idade AS usuarios_idade \n",
      "FROM usuarios\n",
      "2024-02-14 11:33:19,705 INFO sqlalchemy.engine.Engine [generated in 0.00079s] ()\n",
      "Maria 25\n",
      "2024-02-14 11:33:19,706 INFO sqlalchemy.engine.Engine ROLLBACK\n"
     ]
    }
   ],
   "source": [
    "from sqlalchemy import create_engine, Column, Integer, String\n",
    "from sqlalchemy.ext.declarative import declarative_base\n",
    "from sqlalchemy.orm import sessionmaker\n",
    "\n",
    "# Criando uma engine para conectar ao banco de dados SQLite\n",
    "engine = create_engine('sqlite:///databases/teste.db', echo=True)\n",
    "\n",
    "# Definindo uma classe de modelo\n",
    "Base = declarative_base()\n",
    "\n",
    "class Usuario(Base):\n",
    "    __tablename__ = 'usuarios'\n",
    "    id = Column(Integer, primary_key=True)\n",
    "    nome = Column(String)\n",
    "    idade = Column(Integer)\n",
    "\n",
    "# Criando as tabelas no banco de dados\n",
    "Base.metadata.create_all(engine)\n",
    "\n",
    "# Criando uma sessão\n",
    "Session = sessionmaker(bind=engine)\n",
    "session = Session()\n",
    "\n",
    "# Inserindo dados\n",
    "usuario = Usuario(nome='Maria', idade=25)\n",
    "session.add(usuario)\n",
    "session.commit()\n",
    "\n",
    "# Consultando dados\n",
    "usuarios = session.query(Usuario).all()\n",
    "for usuario in usuarios:\n",
    "    print(usuario.nome, usuario.idade)\n",
    "\n",
    "# Fechando a sessão\n",
    "session.close()"
   ]
  },
  {
   "cell_type": "markdown",
   "metadata": {},
   "source": [
    "### Criando um banco de dados"
   ]
  },
  {
   "cell_type": "code",
   "execution_count": 7,
   "metadata": {},
   "outputs": [],
   "source": [
    "# Reemove o arquivo com o banco de dados SQLite (caso exista)\n",
    "import os\n",
    "os.remove(\"databases/produtos.db\") if os.path.exists(\"databases/produtos.db\") else None"
   ]
  },
  {
   "cell_type": "code",
   "execution_count": 8,
   "metadata": {},
   "outputs": [],
   "source": [
    "import sqlite3\n",
    " \n",
    "# Criando uma conexão com o banco\n",
    "conn = sqlite3.connect('databases/produtos.db')   \n",
    "\n",
    "# Criando um cursor\n",
    "c = conn.cursor()\n",
    " \n",
    "# Função para criar uma tabela\n",
    "def create_table():\n",
    "    c.execute('CREATE TABLE IF NOT EXISTS produtos(id INTEGER PRIMARY KEY AUTOINCREMENT NOT NULL, date TEXT, '\\\n",
    "              'prod_name TEXT, valor REAL)')\n",
    "    \n",
    "# Função para inserir uma linha\n",
    "def data_insert():\n",
    "    c.execute(\"INSERT INTO produtos VALUES(10, '2020-05-02 14:32:11', 'Teclado', 90 )\")\n",
    "    conn.commit()\n",
    "    c.close()\n",
    "    conn.close()"
   ]
  },
  {
   "cell_type": "code",
   "execution_count": 9,
   "metadata": {},
   "outputs": [],
   "source": [
    "# Criar tabela\n",
    "create_table()"
   ]
  },
  {
   "cell_type": "code",
   "execution_count": 10,
   "metadata": {},
   "outputs": [],
   "source": [
    "# Inserir dados\n",
    "data_insert()"
   ]
  },
  {
   "cell_type": "markdown",
   "metadata": {},
   "source": [
    "### Inserindo Dados"
   ]
  },
  {
   "cell_type": "code",
   "execution_count": 11,
   "metadata": {},
   "outputs": [],
   "source": [
    "import sqlite3\n",
    "import random\n",
    "import time\n",
    "import datetime\n",
    " \n",
    "# Criando uma conexão\n",
    "conn = sqlite3.connect('databases/produtos.db')   \n",
    "\n",
    "# Criando um cursor\n",
    "c = conn.cursor()\n",
    " \n",
    "# Função para criar uma tabela\n",
    "def create_table():\n",
    "    c.execute('CREATE TABLE IF NOT EXISTS produtos(id INTEGER PRIMARY KEY AUTOINCREMENT NOT NULL, date TEXT, '\\\n",
    "              'prod_name TEXT, valor REAL)')\n",
    "    \n",
    "# Função para inserir uma linha\n",
    "def data_insert():\n",
    "    c.execute(\"INSERT INTO produtos VALUES('2020-05-02 12:34:45', 'Teclado', 130.00 )\")\n",
    "    conn.commit()\n",
    "    c.close()\n",
    "    conn.close()\n",
    "    \n",
    "# Usando variáveis para inserir dados    \n",
    "def data_insert_var():\n",
    "    new_date = datetime.datetime.now()\n",
    "    new_prod_name = 'Mouse'\n",
    "    new_valor = random.randrange(50,100)\n",
    "    c.execute(\"INSERT INTO produtos (date, prod_name, valor) VALUES (?, ?, ?)\", (new_date, new_prod_name, new_valor))\n",
    "    conn.commit()"
   ]
  },
  {
   "cell_type": "code",
   "execution_count": 12,
   "metadata": {},
   "outputs": [],
   "source": [
    "# Gerando valores e inserindo na tabela\n",
    "for i in range(5):\n",
    "    data_insert_var()\n",
    "    time.sleep(1)"
   ]
  },
  {
   "cell_type": "code",
   "execution_count": 13,
   "metadata": {},
   "outputs": [],
   "source": [
    "# Encerrando a conexão\n",
    "c.close()\n",
    "conn.close()"
   ]
  },
  {
   "cell_type": "markdown",
   "metadata": {},
   "source": [
    "### Leitura dos dados"
   ]
  },
  {
   "cell_type": "code",
   "execution_count": 14,
   "metadata": {},
   "outputs": [],
   "source": [
    "import sqlite3\n",
    "import random\n",
    "import time\n",
    "import datetime\n",
    " \n",
    "# Criando uma conexão\n",
    "conn = sqlite3.connect('databases/produtos.db')   \n",
    "\n",
    "# Criando um cursor\n",
    "c = conn.cursor()\n",
    " \n",
    "# Função para criar uma tabela\n",
    "def create_table():\n",
    "    c.execute('CREATE TABLE IF NOT EXISTS produtos(id INTEGER PRIMARY KEY AUTOINCREMENT NOT NULL, date TEXT, '\\\n",
    "              'prod_name TEXT, valor REAL)')\n",
    "\n",
    "# Função para inserir uma linha\n",
    "def data_insert():\n",
    "    c.execute(\"INSERT INTO produtos VALUES(002, '02-05-2024', 'teclado', 130 )\")\n",
    "    conn.commit()\n",
    "    c.close()\n",
    "    conn.close()\n",
    "    \n",
    "# Usando variáveis para inserir dados    \n",
    "def data_insert_var():\n",
    "    new_date = datetime.datetime.now()\n",
    "    new_prod_name = 'mouse'\n",
    "    new_valor = random.randrange(50,100)\n",
    "    c.execute(\"INSERT INTO produtos (date, prod_name, valor) VALUES (?, ?, ?, ?)\", \n",
    "              (new_date, new_prod_name, new_valor))\n",
    "    conn.commit()\n",
    "    \n",
    "# Leitura dos dados da tabela\n",
    "def leitura_todos_dados():\n",
    "    c.execute(\"SELECT * FROM PRODUTOS\")\n",
    "    for linha in c.fetchall():\n",
    "        print(linha)\n",
    "        \n",
    "# Leitura de registros específicos na tabela\n",
    "def leitura_registros():\n",
    "    c.execute(\"SELECT * FROM PRODUTOS WHERE valor > 80.0\")\n",
    "    for linha in c.fetchall():\n",
    "        print(linha)      \n",
    "        \n",
    "# Leitura de colunas específicas\n",
    "def leitura_colunas():\n",
    "    c.execute(\"SELECT * FROM PRODUTOS\")\n",
    "    for linha in c.fetchall():\n",
    "        print(linha[3]) "
   ]
  },
  {
   "cell_type": "code",
   "execution_count": 15,
   "metadata": {},
   "outputs": [
    {
     "name": "stdout",
     "output_type": "stream",
     "text": [
      "(10, '2020-05-02 14:32:11', 'Teclado', 90.0)\n",
      "(11, '2024-02-14 11:34:28.159028', 'Mouse', 89.0)\n",
      "(12, '2024-02-14 11:34:29.525592', 'Mouse', 97.0)\n",
      "(13, '2024-02-14 11:34:30.878059', 'Mouse', 58.0)\n",
      "(14, '2024-02-14 11:34:32.229696', 'Mouse', 98.0)\n",
      "(15, '2024-02-14 11:34:33.590812', 'Mouse', 89.0)\n"
     ]
    }
   ],
   "source": [
    "# Selecionar os dados\n",
    "leitura_todos_dados()"
   ]
  },
  {
   "cell_type": "code",
   "execution_count": 16,
   "metadata": {},
   "outputs": [
    {
     "name": "stdout",
     "output_type": "stream",
     "text": [
      "(10, '2020-05-02 14:32:11', 'Teclado', 90.0)\n",
      "(11, '2024-02-14 11:34:28.159028', 'Mouse', 89.0)\n",
      "(12, '2024-02-14 11:34:29.525592', 'Mouse', 97.0)\n",
      "(14, '2024-02-14 11:34:32.229696', 'Mouse', 98.0)\n",
      "(15, '2024-02-14 11:34:33.590812', 'Mouse', 89.0)\n"
     ]
    }
   ],
   "source": [
    "# Leitura de registros específicos apenas com valores superiores a 80\n",
    "leitura_registros()"
   ]
  },
  {
   "cell_type": "code",
   "execution_count": 17,
   "metadata": {},
   "outputs": [
    {
     "name": "stdout",
     "output_type": "stream",
     "text": [
      "90.0\n",
      "89.0\n",
      "97.0\n",
      "58.0\n",
      "98.0\n",
      "89.0\n"
     ]
    }
   ],
   "source": [
    "# Leitura de colunas específicas. Seleciona a coluna dos valores\n",
    "leitura_colunas()"
   ]
  },
  {
   "cell_type": "markdown",
   "metadata": {},
   "source": [
    "### Update e Delete"
   ]
  },
  {
   "cell_type": "code",
   "execution_count": 19,
   "metadata": {},
   "outputs": [],
   "source": [
    "import sqlite3\n",
    "import random\n",
    "import time\n",
    "import datetime\n",
    " \n",
    "# Criando uma conexão\n",
    "conn = sqlite3.connect('databases/produtos.db')   \n",
    "\n",
    "# Criando um cursor\n",
    "c = conn.cursor()\n",
    " \n",
    "# Função para criar uma tabela\n",
    "def create_table():\n",
    "    c.execute('CREATE TABLE IF NOT EXISTS produtos(id INTEGER PRIMARY KEY AUTOINCREMENT NOT NULL, date TEXT, '\\\n",
    "              'prod_name TEXT, valor REAL)')\n",
    "      \n",
    "# Função para inserir uma linha\n",
    "def data_insert():\n",
    "    c.execute(\"INSERT INTO produtos VALUES(002, '02-05-2024', 'teclado', 130 )\")\n",
    "    conn.commit()\n",
    "    c.close()\n",
    "    conn.close()\n",
    "    \n",
    "# Usando variáveis para inserir dados    \n",
    "def data_insert_var():\n",
    "    new_date = datetime.datetime.now()\n",
    "    new_prod_name = 'monitor'\n",
    "    new_valor = random.randrange(50,100)\n",
    "    c.execute(\"INSERT INTO produtos (date, prod_name, valor) VALUES (?, ?, ?, ?)\", \n",
    "              (new_date, new_prod_name, new_valor))\n",
    "    conn.commit()\n",
    "    \n",
    "# Leitura de dados\n",
    "def leitura_todos_dados():\n",
    "    c.execute(\"SELECT * FROM PRODUTOS\")\n",
    "    for linha in c.fetchall():\n",
    "        print(linha)\n",
    "        \n",
    "# Leitura de registros específicos\n",
    "def leitura_registros():\n",
    "    c.execute(\"SELECT * FROM PRODUTOS WHERE valor > 70.0\")\n",
    "    for linha in c.fetchall():\n",
    "        print(linha)      \n",
    "        \n",
    "# Leitura de colunas específicos\n",
    "def leitura_colunas():\n",
    "    c.execute(\"SELECT * FROM PRODUTOS\")\n",
    "    for linha in c.fetchall():\n",
    "        print(linha[3])  \n",
    "        \n",
    "# Update\n",
    "def atualiza_dados():\n",
    "    c.execute(\"UPDATE produtos SET valor = 70.00 WHERE prod_name = 'Teclado'\")\n",
    "    conn.commit()\n",
    "    \n",
    "# Delete\n",
    "def remove_dados():\n",
    "    c.execute(\"DELETE FROM produtos WHERE valor = 89.0\")\n",
    "    conn.commit()"
   ]
  },
  {
   "cell_type": "code",
   "execution_count": 20,
   "metadata": {},
   "outputs": [],
   "source": [
    "atualiza_dados()"
   ]
  },
  {
   "cell_type": "code",
   "execution_count": 21,
   "metadata": {},
   "outputs": [
    {
     "name": "stdout",
     "output_type": "stream",
     "text": [
      "(10, '2020-05-02 14:32:11', 'Teclado', 70.0)\n",
      "(11, '2024-02-14 11:34:28.159028', 'Mouse', 89.0)\n",
      "(12, '2024-02-14 11:34:29.525592', 'Mouse', 97.0)\n",
      "(13, '2024-02-14 11:34:30.878059', 'Mouse', 58.0)\n",
      "(14, '2024-02-14 11:34:32.229696', 'Mouse', 98.0)\n",
      "(15, '2024-02-14 11:34:33.590812', 'Mouse', 89.0)\n"
     ]
    }
   ],
   "source": [
    "leitura_todos_dados()"
   ]
  },
  {
   "cell_type": "code",
   "execution_count": 22,
   "metadata": {},
   "outputs": [],
   "source": [
    "# Excluir dados\n",
    "remove_dados()"
   ]
  },
  {
   "cell_type": "code",
   "execution_count": 23,
   "metadata": {},
   "outputs": [
    {
     "name": "stdout",
     "output_type": "stream",
     "text": [
      "(10, '2020-05-02 14:32:11', 'Teclado', 70.0)\n",
      "(12, '2024-02-14 11:34:29.525592', 'Mouse', 97.0)\n",
      "(13, '2024-02-14 11:34:30.878059', 'Mouse', 58.0)\n",
      "(14, '2024-02-14 11:34:32.229696', 'Mouse', 98.0)\n"
     ]
    }
   ],
   "source": [
    "# Nova leitura dos dados após exclusão\n",
    "leitura_todos_dados()"
   ]
  },
  {
   "cell_type": "markdown",
   "metadata": {},
   "source": [
    "## Fim"
   ]
  },
  {
   "cell_type": "code",
   "execution_count": null,
   "metadata": {},
   "outputs": [],
   "source": []
  }
 ],
 "metadata": {
  "anaconda-cloud": {},
  "kernelspec": {
   "display_name": "Python 3 (ipykernel)",
   "language": "python",
   "name": "python3"
  },
  "language_info": {
   "codemirror_mode": {
    "name": "ipython",
    "version": 3
   },
   "file_extension": ".py",
   "mimetype": "text/x-python",
   "name": "python",
   "nbconvert_exporter": "python",
   "pygments_lexer": "ipython3",
   "version": "3.10.12"
  }
 },
 "nbformat": 4,
 "nbformat_minor": 1
}
