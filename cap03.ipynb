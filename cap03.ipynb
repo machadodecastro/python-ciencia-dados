{
 "cells": [
  {
   "cell_type": "markdown",
   "metadata": {},
   "source": [
    "# <font color='blue'>Python para Ciência de Dados</font>\n",
    "# <font color='blue'>Capítulo 3</font>\n"
   ]
  },
  {
   "cell_type": "code",
   "execution_count": null,
   "metadata": {},
   "outputs": [],
   "source": [
    "# Versão da Linguagem Python\n",
    "from platform import python_version\n",
    "print('Versão da Linguagem Python usada neste Jupyter Notebook:', python_version())"
   ]
  },
  {
   "cell_type": "markdown",
   "metadata": {},
   "source": [
    "# Operações com números"
   ]
  },
  {
   "cell_type": "code",
   "execution_count": null,
   "metadata": {},
   "outputs": [],
   "source": [
    "# comando para imprimir na tela\n",
    "print(\"Olá Mundo\")"
   ]
  },
  {
   "cell_type": "code",
   "execution_count": 17,
   "metadata": {},
   "outputs": [
    {
     "data": {
      "text/plain": [
       "4"
      ]
     },
     "execution_count": 17,
     "metadata": {},
     "output_type": "execute_result"
    }
   ],
   "source": [
    "# Adição\n",
    "2 + 2"
   ]
  },
  {
   "cell_type": "code",
   "execution_count": 6,
   "metadata": {},
   "outputs": [
    {
     "data": {
      "text/plain": [
       "3"
      ]
     },
     "execution_count": 6,
     "metadata": {},
     "output_type": "execute_result"
    }
   ],
   "source": [
    "# Subtração\n",
    "5 - 2"
   ]
  },
  {
   "cell_type": "code",
   "execution_count": 7,
   "metadata": {},
   "outputs": [
    {
     "data": {
      "text/plain": [
       "9"
      ]
     },
     "execution_count": 7,
     "metadata": {},
     "output_type": "execute_result"
    }
   ],
   "source": [
    "# Multiplicação\n",
    "3 * 3"
   ]
  },
  {
   "cell_type": "code",
   "execution_count": 8,
   "metadata": {},
   "outputs": [
    {
     "data": {
      "text/plain": [
       "1.5"
      ]
     },
     "execution_count": 8,
     "metadata": {},
     "output_type": "execute_result"
    }
   ],
   "source": [
    "# Divisão\n",
    "3 / 2"
   ]
  },
  {
   "cell_type": "code",
   "execution_count": 9,
   "metadata": {},
   "outputs": [
    {
     "data": {
      "text/plain": [
       "25"
      ]
     },
     "execution_count": 9,
     "metadata": {},
     "output_type": "execute_result"
    }
   ],
   "source": [
    "# Potência\n",
    "5 ** 2 "
   ]
  },
  {
   "cell_type": "code",
   "execution_count": null,
   "metadata": {},
   "outputs": [],
   "source": [
    "# Módulo\n",
    "7 % 3 "
   ]
  },
  {
   "cell_type": "markdown",
   "metadata": {},
   "source": [
    "## Função type()"
   ]
  },
  {
   "cell_type": "code",
   "execution_count": 13,
   "metadata": {},
   "outputs": [
    {
     "data": {
      "text/plain": [
       "int"
      ]
     },
     "execution_count": 13,
     "metadata": {},
     "output_type": "execute_result"
    }
   ],
   "source": [
    "# Conhecer o tipo de um número\n",
    "type(5)"
   ]
  },
  {
   "cell_type": "code",
   "execution_count": 14,
   "metadata": {},
   "outputs": [
    {
     "data": {
      "text/plain": [
       "float"
      ]
     },
     "execution_count": 14,
     "metadata": {},
     "output_type": "execute_result"
    }
   ],
   "source": [
    "type(5.0)"
   ]
  },
  {
   "cell_type": "code",
   "execution_count": 16,
   "metadata": {},
   "outputs": [
    {
     "data": {
      "text/plain": [
       "str"
      ]
     },
     "execution_count": 16,
     "metadata": {},
     "output_type": "execute_result"
    }
   ],
   "source": [
    "# Conhecer o tipo de um objeto\n",
    "a = 'Eu sou uma string'\n",
    "type(a)"
   ]
  },
  {
   "cell_type": "markdown",
   "metadata": {},
   "source": [
    "## Conversão"
   ]
  },
  {
   "cell_type": "code",
   "execution_count": 21,
   "metadata": {},
   "outputs": [
    {
     "data": {
      "text/plain": [
       "5.0"
      ]
     },
     "execution_count": 21,
     "metadata": {},
     "output_type": "execute_result"
    }
   ],
   "source": [
    "# Converte para número flutuante\n",
    "float(5)"
   ]
  },
  {
   "cell_type": "code",
   "execution_count": 22,
   "metadata": {},
   "outputs": [
    {
     "data": {
      "text/plain": [
       "8"
      ]
     },
     "execution_count": 22,
     "metadata": {},
     "output_type": "execute_result"
    }
   ],
   "source": [
    "# Converte para número inteiro\n",
    "int(8.2)"
   ]
  },
  {
   "cell_type": "markdown",
   "metadata": {},
   "source": [
    "## Variáveis"
   ]
  },
  {
   "cell_type": "code",
   "execution_count": 23,
   "metadata": {},
   "outputs": [
    {
     "name": "stdout",
     "output_type": "stream",
     "text": [
      "10\n"
     ]
    }
   ],
   "source": [
    "# Atribuição de valores a variáveis\n",
    "x = 10\n",
    "\n",
    "y = 15\n",
    "\n",
    "y = x\n",
    "\n",
    "print(y) \n"
   ]
  },
  {
   "cell_type": "markdown",
   "metadata": {},
   "source": [
    "## Operações com números flutuantes"
   ]
  },
  {
   "cell_type": "code",
   "execution_count": 24,
   "metadata": {},
   "outputs": [
    {
     "data": {
      "text/plain": [
       "11.8"
      ]
     },
     "execution_count": 24,
     "metadata": {},
     "output_type": "execute_result"
    }
   ],
   "source": [
    "4.3 + 7.5"
   ]
  },
  {
   "cell_type": "code",
   "execution_count": 25,
   "metadata": {},
   "outputs": [
    {
     "data": {
      "text/plain": [
       "9.0"
      ]
     },
     "execution_count": 25,
     "metadata": {},
     "output_type": "execute_result"
    }
   ],
   "source": [
    "6 + 3.0"
   ]
  },
  {
   "cell_type": "code",
   "execution_count": 27,
   "metadata": {},
   "outputs": [
    {
     "data": {
      "text/plain": [
       "5.0"
      ]
     },
     "execution_count": 27,
     "metadata": {},
     "output_type": "execute_result"
    }
   ],
   "source": [
    "# Resultado da divisão é um número float\n",
    "10 / 2"
   ]
  },
  {
   "cell_type": "code",
   "execution_count": 29,
   "metadata": {},
   "outputs": [
    {
     "data": {
      "text/plain": [
       "5"
      ]
     },
     "execution_count": 29,
     "metadata": {},
     "output_type": "execute_result"
    }
   ],
   "source": [
    "# Agora o resultado é um número inteiro\n",
    "10 // 2"
   ]
  },
  {
   "cell_type": "code",
   "execution_count": 31,
   "metadata": {},
   "outputs": [
    {
     "data": {
      "text/plain": [
       "1.3333333333333333"
      ]
     },
     "execution_count": 31,
     "metadata": {},
     "output_type": "execute_result"
    }
   ],
   "source": [
    "# Dízimas\n",
    "4 / 3.0"
   ]
  },
  {
   "cell_type": "code",
   "execution_count": 33,
   "metadata": {},
   "outputs": [
    {
     "data": {
      "text/plain": [
       "1.0"
      ]
     },
     "execution_count": 33,
     "metadata": {},
     "output_type": "execute_result"
    }
   ],
   "source": [
    "# Truncando a dízima\n",
    "4 // 3.0"
   ]
  },
  {
   "cell_type": "markdown",
   "metadata": {},
   "source": [
    "## Conversão para Hexadecimal e Binário"
   ]
  },
  {
   "cell_type": "code",
   "execution_count": 35,
   "metadata": {},
   "outputs": [
    {
     "data": {
      "text/plain": [
       "'0x127'"
      ]
     },
     "execution_count": 35,
     "metadata": {},
     "output_type": "execute_result"
    }
   ],
   "source": [
    "hex(295)"
   ]
  },
  {
   "cell_type": "code",
   "execution_count": 36,
   "metadata": {},
   "outputs": [
    {
     "data": {
      "text/plain": [
       "'0b100100111'"
      ]
     },
     "execution_count": 36,
     "metadata": {},
     "output_type": "execute_result"
    }
   ],
   "source": [
    "bin(295)"
   ]
  },
  {
   "cell_type": "markdown",
   "metadata": {},
   "source": [
    "## Função abs()"
   ]
  },
  {
   "cell_type": "code",
   "execution_count": 39,
   "metadata": {},
   "outputs": [
    {
     "data": {
      "text/plain": [
       "5"
      ]
     },
     "execution_count": 39,
     "metadata": {},
     "output_type": "execute_result"
    }
   ],
   "source": [
    "# Retorna o valor absoluto\n",
    "abs(-5)"
   ]
  },
  {
   "cell_type": "code",
   "execution_count": 40,
   "metadata": {},
   "outputs": [
    {
     "data": {
      "text/plain": [
       "5"
      ]
     },
     "execution_count": 40,
     "metadata": {},
     "output_type": "execute_result"
    }
   ],
   "source": [
    "abs(5)"
   ]
  },
  {
   "cell_type": "markdown",
   "metadata": {},
   "source": [
    "## Função round()"
   ]
  },
  {
   "cell_type": "code",
   "execution_count": 45,
   "metadata": {},
   "outputs": [
    {
     "data": {
      "text/plain": [
       "3.14"
      ]
     },
     "execution_count": 45,
     "metadata": {},
     "output_type": "execute_result"
    }
   ],
   "source": [
    "# Retorna o valor com arredondamento com 2 casas decimais\n",
    "round(3.14159265359,2)"
   ]
  },
  {
   "cell_type": "code",
   "execution_count": 46,
   "metadata": {},
   "outputs": [
    {
     "data": {
      "text/plain": [
       "3.1"
      ]
     },
     "execution_count": 46,
     "metadata": {},
     "output_type": "execute_result"
    }
   ],
   "source": [
    "# Retorna o valor com arredondamento com 1 casa decimal\n",
    "round(3.14159265359,1)"
   ]
  },
  {
   "cell_type": "markdown",
   "metadata": {},
   "source": [
    "## Função pow()"
   ]
  },
  {
   "cell_type": "code",
   "execution_count": 47,
   "metadata": {},
   "outputs": [
    {
     "data": {
      "text/plain": [
       "25"
      ]
     },
     "execution_count": 47,
     "metadata": {},
     "output_type": "execute_result"
    }
   ],
   "source": [
    "# Potência de 5 elevado a 2\n",
    "pow(5,2)"
   ]
  },
  {
   "cell_type": "code",
   "execution_count": 48,
   "metadata": {},
   "outputs": [
    {
     "data": {
      "text/plain": [
       "64"
      ]
     },
     "execution_count": 48,
     "metadata": {},
     "output_type": "execute_result"
    }
   ],
   "source": [
    "# Potência de 4 elevado a 3\n",
    "pow(4,3)"
   ]
  },
  {
   "cell_type": "markdown",
   "metadata": {},
   "source": [
    "## Operadores de Atribuição"
   ]
  },
  {
   "cell_type": "code",
   "execution_count": 53,
   "metadata": {},
   "outputs": [
    {
     "name": "stdout",
     "output_type": "stream",
     "text": [
      "10\n"
     ]
    }
   ],
   "source": [
    "# Atribuição simples\n",
    "x = 10\n",
    "\n",
    "print(x)"
   ]
  },
  {
   "cell_type": "code",
   "execution_count": 62,
   "metadata": {},
   "outputs": [
    {
     "name": "stdout",
     "output_type": "stream",
     "text": [
      "10\n"
     ]
    }
   ],
   "source": [
    "# Operador de Adição e Atribuição (+=)\n",
    "x = 5\n",
    "\n",
    "x += 5  # Equivalente a x = x + 5\n",
    "\n",
    "print(x)"
   ]
  },
  {
   "cell_type": "code",
   "execution_count": 74,
   "metadata": {},
   "outputs": [
    {
     "name": "stdout",
     "output_type": "stream",
     "text": [
      "4\n"
     ]
    }
   ],
   "source": [
    "# Operador de Subtração e Atribuição (-=)\n",
    "x = 7\n",
    "\n",
    "x -= 3  # Equivalente a x = x - 3\n",
    "\n",
    "print(x)"
   ]
  },
  {
   "cell_type": "code",
   "execution_count": 73,
   "metadata": {},
   "outputs": [
    {
     "name": "stdout",
     "output_type": "stream",
     "text": [
      "6\n"
     ]
    }
   ],
   "source": [
    "# Operador de Multiplicação e Atribuição (*=)\n",
    "x = 3\n",
    "\n",
    "x *= 2  # Equivalente a x = x * 2\n",
    "\n",
    "print(x)"
   ]
  },
  {
   "cell_type": "code",
   "execution_count": 69,
   "metadata": {},
   "outputs": [
    {
     "name": "stdout",
     "output_type": "stream",
     "text": [
      "2.0\n"
     ]
    }
   ],
   "source": [
    "# Operador de Divisão e Atribuição (/=)\n",
    "x = 8\n",
    "\n",
    "x /= 4  # Equivalente a x = x / 4\n",
    "\n",
    "print(x)"
   ]
  },
  {
   "cell_type": "code",
   "execution_count": 72,
   "metadata": {},
   "outputs": [
    {
     "name": "stdout",
     "output_type": "stream",
     "text": [
      "2\n"
     ]
    }
   ],
   "source": [
    "# Operador de Módulo e Atribuição (%=)\n",
    "x = 14\n",
    "\n",
    "x %= 3  # Equivalente a x = x % 3\n",
    "\n",
    "print(x)"
   ]
  },
  {
   "cell_type": "code",
   "execution_count": 67,
   "metadata": {},
   "outputs": [
    {
     "name": "stdout",
     "output_type": "stream",
     "text": [
      "25\n"
     ]
    }
   ],
   "source": [
    "# Operador de Exponenciação e Atribuição (**=)\n",
    "x = 5\n",
    "\n",
    "x **= 2  # Equivalente a x = x ** 2\n",
    "\n",
    "print(x)"
   ]
  },
  {
   "cell_type": "code",
   "execution_count": 70,
   "metadata": {},
   "outputs": [
    {
     "name": "stdout",
     "output_type": "stream",
     "text": [
      "3\n"
     ]
    }
   ],
   "source": [
    "# Operador de Divisão Inteira e Atribuição (//=)\n",
    "x = 9\n",
    "\n",
    "x //= 3  # Equivalente a x = x // 3\n",
    "\n",
    "print(x)"
   ]
  },
  {
   "cell_type": "markdown",
   "metadata": {},
   "source": [
    "# Funções Built-In"
   ]
  },
  {
   "cell_type": "markdown",
   "metadata": {},
   "source": [
    "## Função Datetime"
   ]
  },
  {
   "cell_type": "code",
   "execution_count": 2,
   "metadata": {},
   "outputs": [],
   "source": [
    "import datetime"
   ]
  },
  {
   "cell_type": "code",
   "execution_count": 5,
   "metadata": {},
   "outputs": [
    {
     "name": "stdout",
     "output_type": "stream",
     "text": [
      "2024-02-11 05:45:34.165177\n"
     ]
    }
   ],
   "source": [
    "# Obter data e hora atuais\n",
    "agora = datetime.datetime.now()\n",
    "print(agora)"
   ]
  },
  {
   "cell_type": "code",
   "execution_count": 4,
   "metadata": {},
   "outputs": [],
   "source": [
    "# Criando um objeto de data e hora\n",
    "data = datetime.datetime(2023, 12, 31)\n",
    "hora = datetime.datetime(2023, 12, 31, 23, 59, 59)"
   ]
  },
  {
   "cell_type": "code",
   "execution_count": 6,
   "metadata": {},
   "outputs": [
    {
     "name": "stdout",
     "output_type": "stream",
     "text": [
      "2024\n",
      "2\n",
      "11\n",
      "5\n",
      "45\n",
      "34\n",
      "165177\n"
     ]
    }
   ],
   "source": [
    "# Acessando componentes de data e hora\n",
    "print(agora.year)        # Ano\n",
    "print(agora.month)       # Mês\n",
    "print(agora.day)         # Dia\n",
    "print(agora.hour)        # Hora\n",
    "print(agora.minute)      # Minuto\n",
    "print(agora.second)      # Segundo\n",
    "print(agora.microsecond) # Microssegundo"
   ]
  },
  {
   "cell_type": "code",
   "execution_count": 7,
   "metadata": {},
   "outputs": [
    {
     "name": "stdout",
     "output_type": "stream",
     "text": [
      "11/02/2024 05:45:34\n"
     ]
    }
   ],
   "source": [
    "# Formatando data ou hora como string\n",
    "data_formatada = agora.strftime(\"%d/%m/%Y %H:%M:%S\")\n",
    "print(data_formatada)"
   ]
  },
  {
   "cell_type": "code",
   "execution_count": 8,
   "metadata": {},
   "outputs": [
    {
     "name": "stdout",
     "output_type": "stream",
     "text": [
      "2023-12-31 00:00:00\n"
     ]
    }
   ],
   "source": [
    "# Convertendo uma string em objeto de data ou hora\n",
    "data_string = \"2023-12-31\"\n",
    "data = datetime.datetime.strptime(data_string, \"%Y-%m-%d\")\n",
    "print(data)"
   ]
  },
  {
   "cell_type": "code",
   "execution_count": 13,
   "metadata": {},
   "outputs": [
    {
     "name": "stdout",
     "output_type": "stream",
     "text": [
      "d1: 2022-08-05\n",
      "d2: 2023-08-05\n"
     ]
    },
    {
     "data": {
      "text/plain": [
       "datetime.timedelta(days=365)"
      ]
     },
     "execution_count": 13,
     "metadata": {},
     "output_type": "execute_result"
    }
   ],
   "source": [
    "# Diferença entre dias\n",
    "d1 = datetime.date(2022, 8, 5)\n",
    "print ('d1:', d1)\n",
    "\n",
    "d2 = d1.replace(year=2023)\n",
    "print ('d2:', d2)\n",
    "\n",
    "d2 - d1"
   ]
  },
  {
   "cell_type": "markdown",
   "metadata": {},
   "source": [
    "## Função Map"
   ]
  },
  {
   "cell_type": "code",
   "execution_count": 14,
   "metadata": {},
   "outputs": [
    {
     "name": "stdout",
     "output_type": "stream",
     "text": [
      "[1, 4, 9, 16, 25]\n"
     ]
    }
   ],
   "source": [
    "# Definindo uma função para calcular o quadrado de um número\n",
    "def quadrado(x):\n",
    "    return x * x\n",
    "\n",
    "# Aplicando a função quadrado a cada elemento da lista usando map()\n",
    "numeros = [1, 2, 3, 4, 5]\n",
    "quadrados = map(quadrado, numeros)\n",
    "\n",
    "# Convertendo o iterador em uma lista para ver os resultados\n",
    "print(list(quadrados))  # Saída: [1, 4, 9, 16, 25]"
   ]
  },
  {
   "cell_type": "code",
   "execution_count": 19,
   "metadata": {},
   "outputs": [
    {
     "name": "stdout",
     "output_type": "stream",
     "text": [
      "[1, 4, 9, 16, 25]\n"
     ]
    }
   ],
   "source": [
    "# Função map() aplicada com funções lambda\n",
    "numeros = [1, 2, 3, 4, 5]\n",
    "quadrados = map(lambda x: x * x, numeros)\n",
    "print(list(quadrados))  # Saída: [1, 4, 9, 16, 25]"
   ]
  },
  {
   "cell_type": "code",
   "execution_count": 16,
   "metadata": {},
   "outputs": [
    {
     "name": "stdout",
     "output_type": "stream",
     "text": [
      "[5, 7, 9]\n"
     ]
    }
   ],
   "source": [
    "# Passando múltiplas sequências para a função map()\n",
    "\n",
    "# Definindo uma função para somar dois números\n",
    "def soma(x, y):\n",
    "    return x + y\n",
    "\n",
    "# Aplicando a função soma a cada par de elementos das listas usando map()\n",
    "numeros1 = [1, 2, 3]\n",
    "numeros2 = [4, 5, 6]\n",
    "soma_resultados = map(soma, numeros1, numeros2)\n",
    "\n",
    "# Convertendo o iterador em uma lista para ver os resultados\n",
    "print(list(soma_resultados))  # Saída: [5, 7, 9]"
   ]
  },
  {
   "cell_type": "code",
   "execution_count": 18,
   "metadata": {},
   "outputs": [
    {
     "name": "stdout",
     "output_type": "stream",
     "text": [
      "[32.0, 72.5, 104.0, 212.0]\n",
      "[-17.77777777777778, -5.277777777777778, 4.444444444444445, 37.77777777777778]\n"
     ]
    }
   ],
   "source": [
    "# Criando duas funções\n",
    "\n",
    "# Função 1 - Recebe uma temperatura como parâmetro e retorna a temperatura em Fahrenheit\n",
    "def fahrenheit(T):\n",
    "    return ((float(9)/5)*T + 32)\n",
    "\n",
    "# Função 2 - Recebe uma temperatura como parâmetro e retorna a temperatura em Celsius\n",
    "def celsius(T):\n",
    "    return (float(5)/9)*(T-32)\n",
    "\n",
    "# Criando uma lista\n",
    "temperaturas = [0, 22.5, 40, 100]\n",
    "\n",
    "# Função map() retornando a lista de temperaturas convertidas em Fahrenheit\n",
    "f = list(map(fahrenheit, temperaturas))\n",
    "print(f)\n",
    "\n",
    "# Função map() retornando a lista de temperaturas convertidas em Celsius\n",
    "c = list(map(celsius, temperaturas))\n",
    "print(c)"
   ]
  },
  {
   "cell_type": "markdown",
   "metadata": {},
   "source": [
    "## Função Reduce"
   ]
  },
  {
   "cell_type": "code",
   "execution_count": 20,
   "metadata": {},
   "outputs": [
    {
     "name": "stdout",
     "output_type": "stream",
     "text": [
      "120\n"
     ]
    }
   ],
   "source": [
    "from functools import reduce\n",
    "\n",
    "# Definindo uma função para multiplicar dois números\n",
    "def multiplicar(x, y):\n",
    "    return x * y\n",
    "\n",
    "# Lista de números\n",
    "numeros = [1, 2, 3, 4, 5]\n",
    "\n",
    "# Usando reduce() para encontrar o produto de todos os números\n",
    "produto = reduce(multiplicar, numeros)\n",
    "print(produto)  # Saída: 120 (1 * 2 * 3 * 4 * 5)"
   ]
  },
  {
   "cell_type": "code",
   "execution_count": 21,
   "metadata": {},
   "outputs": [
    {
     "name": "stdout",
     "output_type": "stream",
     "text": [
      "120\n"
     ]
    }
   ],
   "source": [
    "# Uso da função reduce() com funções lambda\n",
    "numeros = [1, 2, 3, 4, 5]\n",
    "\n",
    "# Usando reduce() com uma função lambda para encontrar o produto\n",
    "produto = reduce(lambda x, y: x * y, numeros)\n",
    "print(produto)  # Saída: 120"
   ]
  },
  {
   "cell_type": "code",
   "execution_count": 22,
   "metadata": {},
   "outputs": [
    {
     "name": "stdout",
     "output_type": "stream",
     "text": [
      "15\n"
     ]
    }
   ],
   "source": [
    "# Fornecendo um valor inicial para a função reduce()\n",
    "from functools import reduce\n",
    "\n",
    "numeros = [1, 2, 3, 4, 5]\n",
    "\n",
    "# Usando reduce() com um valor inicial para encontrar a soma\n",
    "soma = reduce(lambda x, y: x + y, numeros, 0)\n",
    "print(soma)  # Saída: 15"
   ]
  },
  {
   "cell_type": "code",
   "execution_count": 23,
   "metadata": {},
   "outputs": [
    {
     "data": {
      "text/plain": [
       "101"
      ]
     },
     "execution_count": 23,
     "metadata": {},
     "output_type": "execute_result"
    }
   ],
   "source": [
    "# Atribuindo uma expressão lambda a uma variável\n",
    "\n",
    "# Criando uma lista\n",
    "lista = [59, 15, 101, 23]\n",
    "\n",
    "max = lambda a,b: a if (a > b) else b\n",
    "\n",
    "# Reduzindo a lista até o valor máximo, através da função lambda\n",
    "reduce(max, lista)"
   ]
  },
  {
   "cell_type": "code",
   "execution_count": 26,
   "metadata": {},
   "outputs": [
    {
     "data": {
      "text/plain": [
       "15"
      ]
     },
     "execution_count": 26,
     "metadata": {},
     "output_type": "execute_result"
    }
   ],
   "source": [
    "# Atribuindo uma expressão lambda a uma variável\n",
    "\n",
    "# Criando uma lista\n",
    "lista = [59, 15, 101, 23]\n",
    "\n",
    "min = lambda a,b: a if (a < b) else b\n",
    "\n",
    "# Reduzindo a lista até o valor mínimo, através da função lambda\n",
    "reduce(min, lista)"
   ]
  },
  {
   "cell_type": "markdown",
   "metadata": {},
   "source": [
    "## Função Filter"
   ]
  },
  {
   "cell_type": "code",
   "execution_count": 27,
   "metadata": {},
   "outputs": [
    {
     "name": "stdout",
     "output_type": "stream",
     "text": [
      "[2, 4, 6, 8, 10]\n"
     ]
    }
   ],
   "source": [
    "# Função de filtro para verificar se um número é par\n",
    "def eh_par(numero):\n",
    "    return numero % 2 == 0\n",
    "\n",
    "# Lista de números\n",
    "numeros = [1, 2, 3, 4, 5, 6, 7, 8, 9, 10]\n",
    "\n",
    "# Usando filter() para filtrar os números pares\n",
    "pares = filter(eh_par, numeros)\n",
    "\n",
    "# Convertendo o iterador em uma lista para ver os resultados\n",
    "print(list(pares))  # Saída: [2, 4, 6, 8, 10]"
   ]
  },
  {
   "cell_type": "code",
   "execution_count": 28,
   "metadata": {},
   "outputs": [
    {
     "name": "stdout",
     "output_type": "stream",
     "text": [
      "[2, 4, 6, 8, 10]\n"
     ]
    }
   ],
   "source": [
    "# Usando a função filter() com expressões lambda\n",
    "numeros = [1, 2, 3, 4, 5, 6, 7, 8, 9, 10]\n",
    "\n",
    "# Usando filter() com uma função lambda para filtrar os números pares\n",
    "pares = filter(lambda x: x % 2 == 0, numeros)\n",
    "print(list(pares))  # Saída: [2, 4, 6, 8, 10]"
   ]
  },
  {
   "cell_type": "markdown",
   "metadata": {},
   "source": [
    "## List Comprehension"
   ]
  },
  {
   "cell_type": "code",
   "execution_count": 29,
   "metadata": {},
   "outputs": [
    {
     "name": "stdout",
     "output_type": "stream",
     "text": [
      "[2, 4, 6, 8, 10]\n"
     ]
    }
   ],
   "source": [
    "# Usando List Comprehension para criar uma lista de números pares\n",
    "pares = [x for x in range(1, 11) if x % 2 == 0]\n",
    "print(pares)  # Saída: [2, 4, 6, 8, 10]"
   ]
  },
  {
   "cell_type": "code",
   "execution_count": 30,
   "metadata": {},
   "outputs": [
    {
     "name": "stdout",
     "output_type": "stream",
     "text": [
      "['HELLO', 'WORLD', 'PYTHON']\n"
     ]
    }
   ],
   "source": [
    "# Usando List Comprehension para criar uma lista de strings convertidas em maiúsculas\n",
    "palavras = [\"hello\", \"world\", \"python\"]\n",
    "maiusculas = [word.upper() for word in palavras]\n",
    "print(maiusculas)  # Saída: ['HELLO', 'WORLD', 'PYTHON']"
   ]
  },
  {
   "cell_type": "code",
   "execution_count": 31,
   "metadata": {},
   "outputs": [
    {
     "name": "stdout",
     "output_type": "stream",
     "text": [
      "[[1, 2, 3], [2, 4, 6], [3, 6, 9]]\n"
     ]
    }
   ],
   "source": [
    "# Usando List Comprehension para criar uma matriz\n",
    "matriz = [[i * j for j in range(1, 4)] for i in range(1, 4)]\n",
    "print(matriz)  # Saída: [[1, 2, 3], [2, 4, 6], [3, 6, 9]]"
   ]
  },
  {
   "cell_type": "code",
   "execution_count": 33,
   "metadata": {},
   "outputs": [
    {
     "data": {
      "text/plain": [
       "['C',\n",
       " 'i',\n",
       " 'ê',\n",
       " 'n',\n",
       " 'c',\n",
       " 'i',\n",
       " 'a',\n",
       " ' ',\n",
       " 'd',\n",
       " 'e',\n",
       " ' ',\n",
       " 'D',\n",
       " 'a',\n",
       " 'd',\n",
       " 'o',\n",
       " 's']"
      ]
     },
     "execution_count": 33,
     "metadata": {},
     "output_type": "execute_result"
    }
   ],
   "source": [
    "# Retornar cada caracter em uma sequência de caracteres\n",
    "lista = [x for x in 'Ciência de Dados']\n",
    "\n",
    "lista"
   ]
  },
  {
   "cell_type": "code",
   "execution_count": 36,
   "metadata": {},
   "outputs": [
    {
     "data": {
      "text/plain": [
       "[32.0, 50.0, 90.5, 104.0]"
      ]
     },
     "execution_count": 36,
     "metadata": {},
     "output_type": "execute_result"
    }
   ],
   "source": [
    "# Convertendo Celsius para Fahrenheit\n",
    "celsius = [0, 10, 32.5, 40]\n",
    "\n",
    "fahrenheit = [ ((float(9) / 5) * temp + 32) for temp in celsius ]\n",
    "\n",
    "fahrenheit"
   ]
  },
  {
   "cell_type": "code",
   "execution_count": 40,
   "metadata": {},
   "outputs": [
    {
     "data": {
      "text/plain": [
       "[0, 1, 16, 81]"
      ]
     },
     "execution_count": 40,
     "metadata": {},
     "output_type": "execute_result"
    }
   ],
   "source": [
    "# Operações aninhadas com list comprehension\n",
    "lista = [ x**2 for x in [x**2 for x in range(4)]] # \n",
    "\n",
    "lista"
   ]
  },
  {
   "cell_type": "markdown",
   "metadata": {},
   "source": [
    "## Função Enumerate"
   ]
  },
  {
   "cell_type": "code",
   "execution_count": 41,
   "metadata": {},
   "outputs": [
    {
     "name": "stdout",
     "output_type": "stream",
     "text": [
      "Índice: 0, Cor: vermelho\n",
      "Índice: 1, Cor: verde\n",
      "Índice: 2, Cor: azul\n"
     ]
    }
   ],
   "source": [
    "# Lista de cores\n",
    "cores = ['vermelho', 'verde', 'azul']\n",
    "\n",
    "# Usando enumerate() para iterar sobre a lista de cores\n",
    "for indice, cor in enumerate(cores):\n",
    "    print(f'Índice: {indice}, Cor: {cor}')"
   ]
  },
  {
   "cell_type": "code",
   "execution_count": 42,
   "metadata": {},
   "outputs": [
    {
     "name": "stdout",
     "output_type": "stream",
     "text": [
      "Índice: 1, Cor: vermelho\n",
      "Índice: 2, Cor: verde\n",
      "Índice: 3, Cor: azul\n"
     ]
    }
   ],
   "source": [
    "# Especificando um valor inicial\n",
    "# Usando enumerate() com um valor inicial para os índices\n",
    "for indice, cor in enumerate(cores, start=1):\n",
    "    print(f'Índice: {indice}, Cor: {cor}')"
   ]
  },
  {
   "cell_type": "code",
   "execution_count": 43,
   "metadata": {},
   "outputs": [
    {
     "data": {
      "text/plain": [
       "[(0, 'a'), (1, 'b'), (2, 'c')]"
      ]
     },
     "execution_count": 43,
     "metadata": {},
     "output_type": "execute_result"
    }
   ],
   "source": [
    "# Criando uma lista\n",
    "seq = ['a','b','c']\n",
    "\n",
    "list(enumerate(seq))"
   ]
  },
  {
   "cell_type": "code",
   "execution_count": 44,
   "metadata": {},
   "outputs": [
    {
     "name": "stdout",
     "output_type": "stream",
     "text": [
      "0 a\n",
      "1 b\n",
      "2 c\n"
     ]
    }
   ],
   "source": [
    "# Imprimindo os valores da lista com a função enumerate() e seus respectivos índices\n",
    "for indice, valor in enumerate(seq):\n",
    "    print (indice, valor)"
   ]
  },
  {
   "cell_type": "code",
   "execution_count": 46,
   "metadata": {},
   "outputs": [],
   "source": [
    "# Criando uma nova lista\n",
    "tecnologias = ['Hadoop', 'Spark', 'Snowflake']"
   ]
  },
  {
   "cell_type": "code",
   "execution_count": 47,
   "metadata": {},
   "outputs": [
    {
     "name": "stdout",
     "output_type": "stream",
     "text": [
      "0 Hadoop\n",
      "1 Spark\n",
      "2 Snowflake\n"
     ]
    }
   ],
   "source": [
    "for i, item in enumerate(tecnologias):\n",
    "    print(i, item)"
   ]
  },
  {
   "cell_type": "code",
   "execution_count": 48,
   "metadata": {},
   "outputs": [
    {
     "name": "stdout",
     "output_type": "stream",
     "text": [
      "0 S\n",
      "1 p\n",
      "2 a\n",
      "3 r\n",
      "4 k\n",
      "5  \n",
      "6 é\n",
      "7  \n",
      "8 u\n",
      "9 m\n",
      "10 a\n",
      "11  \n",
      "12 p\n",
      "13 l\n",
      "14 a\n",
      "15 t\n",
      "16 a\n",
      "17 f\n",
      "18 o\n",
      "19 r\n",
      "20 m\n",
      "21 a\n",
      "22  \n",
      "23 d\n",
      "24 e\n",
      "25  \n",
      "26 B\n",
      "27 i\n",
      "28 g\n",
      "29  \n",
      "30 D\n",
      "31 a\n",
      "32 t\n",
      "33 a\n"
     ]
    }
   ],
   "source": [
    "# Iterando com strings\n",
    "for i, item in enumerate('Spark é uma plataforma de Big Data'):\n",
    "    print(i, item)"
   ]
  },
  {
   "cell_type": "code",
   "execution_count": 49,
   "metadata": {},
   "outputs": [
    {
     "name": "stdout",
     "output_type": "stream",
     "text": [
      "0 0\n",
      "1 1\n",
      "2 2\n",
      "3 3\n",
      "4 4\n",
      "5 5\n",
      "6 6\n",
      "7 7\n",
      "8 8\n",
      "9 9\n"
     ]
    }
   ],
   "source": [
    "# Iterando em um range de valores\n",
    "for i, item in enumerate(range(10)):\n",
    "    print(i, item)"
   ]
  },
  {
   "cell_type": "markdown",
   "metadata": {},
   "source": [
    "## Função Zip"
   ]
  },
  {
   "cell_type": "code",
   "execution_count": 50,
   "metadata": {},
   "outputs": [
    {
     "name": "stdout",
     "output_type": "stream",
     "text": [
      "Número: 1, Cor: vermelho\n",
      "Número: 2, Cor: verde\n",
      "Número: 3, Cor: azul\n"
     ]
    }
   ],
   "source": [
    "# Combinando sequências com o mesmo tamanho\n",
    "\n",
    "# Listas de números e cores\n",
    "numeros = [1, 2, 3]\n",
    "cores = ['vermelho', 'verde', 'azul']\n",
    "\n",
    "# Usando zip() para combinar as listas\n",
    "for numero, cor in zip(numeros, cores):\n",
    "    print(f'Número: {numero}, Cor: {cor}')"
   ]
  },
  {
   "cell_type": "code",
   "execution_count": 51,
   "metadata": {},
   "outputs": [
    {
     "name": "stdout",
     "output_type": "stream",
     "text": [
      "Número: 1, Cor: vermelho\n",
      "Número: 2, Cor: verde\n"
     ]
    }
   ],
   "source": [
    "# Combinando sequências com tamanhos diferentes\n",
    "\n",
    "# Listas de números e cores\n",
    "numeros = [1, 2, 3]\n",
    "cores = ['vermelho', 'verde']\n",
    "\n",
    "# Usando zip() com listas de comprimentos diferentes\n",
    "for numero, cor in zip(numeros, cores):\n",
    "    print(f'Número: {numero}, Cor: {cor}')"
   ]
  },
  {
   "cell_type": "markdown",
   "metadata": {},
   "source": [
    "# Trabalhando com Strings"
   ]
  },
  {
   "cell_type": "code",
   "execution_count": 75,
   "metadata": {},
   "outputs": [
    {
     "data": {
      "text/plain": [
       "'n'"
      ]
     },
     "execution_count": 75,
     "metadata": {},
     "output_type": "execute_result"
    }
   ],
   "source": [
    "# Acessando caracteres\n",
    "s = 'Python'\n",
    "\n",
    "s[5]"
   ]
  },
  {
   "cell_type": "code",
   "execution_count": 77,
   "metadata": {},
   "outputs": [
    {
     "data": {
      "text/plain": [
       "'Pytho'"
      ]
     },
     "execution_count": 77,
     "metadata": {},
     "output_type": "execute_result"
    }
   ],
   "source": [
    "s[0:5]"
   ]
  },
  {
   "cell_type": "code",
   "execution_count": 78,
   "metadata": {},
   "outputs": [
    {
     "data": {
      "text/plain": [
       "'Python'"
      ]
     },
     "execution_count": 78,
     "metadata": {},
     "output_type": "execute_result"
    }
   ],
   "source": [
    "s[0:6]"
   ]
  },
  {
   "cell_type": "code",
   "execution_count": 79,
   "metadata": {},
   "outputs": [
    {
     "name": "stdout",
     "output_type": "stream",
     "text": [
      "Olá mundo\n"
     ]
    }
   ],
   "source": [
    "# Concatenando strings\n",
    "s1 = \"Olá\"\n",
    "s2 = \"mundo\"\n",
    "s3 = s1 + \" \" + s2\n",
    "print(s3)"
   ]
  },
  {
   "cell_type": "code",
   "execution_count": 80,
   "metadata": {},
   "outputs": [
    {
     "name": "stdout",
     "output_type": "stream",
     "text": [
      "6\n"
     ]
    }
   ],
   "source": [
    "# Comprimento da string\n",
    "s = \"Python\"\n",
    "print(len(s)) "
   ]
  },
  {
   "cell_type": "code",
   "execution_count": 81,
   "metadata": {},
   "outputs": [
    {
     "name": "stdout",
     "output_type": "stream",
     "text": [
      "tho\n"
     ]
    }
   ],
   "source": [
    "# Fatiando a string - slicing\n",
    "s = \"Python\"\n",
    "print(s[2:5])"
   ]
  },
  {
   "cell_type": "code",
   "execution_count": 82,
   "metadata": {},
   "outputs": [
    {
     "name": "stdout",
     "output_type": "stream",
     "text": [
      "PYTHON\n",
      "Python\n",
      "python\n"
     ]
    }
   ],
   "source": [
    "# Métodos de strings\n",
    "s = \"python\"\n",
    "print(s.upper())      # \"PYTHON\"\n",
    "print(s.capitalize()) # \"Python\"\n",
    "print(s.strip())      # \"python\" (remove espaços em branco extras no início e no final)"
   ]
  },
  {
   "cell_type": "code",
   "execution_count": 83,
   "metadata": {},
   "outputs": [
    {
     "name": "stdout",
     "output_type": "stream",
     "text": [
      "Meu nome é João e tenho 30 anos.\n"
     ]
    }
   ],
   "source": [
    "# Formatando strings\n",
    "nome = \"João\"\n",
    "idade = 30\n",
    "print(f\"Meu nome é {nome} e tenho {idade} anos.\")"
   ]
  },
  {
   "cell_type": "code",
   "execution_count": 1,
   "metadata": {},
   "outputs": [
    {
     "name": "stdout",
     "output_type": "stream",
     "text": [
      "    Eu sou uma multiline string\n",
      "    com várias linhas de saída.\n",
      "\n"
     ]
    }
   ],
   "source": [
    "print(\"\"\"\\\n",
    "    Eu sou uma multiline string\n",
    "    com várias linhas de saída.\n",
    "\"\"\")"
   ]
  },
  {
   "cell_type": "markdown",
   "metadata": {},
   "source": [
    "# Fim"
   ]
  }
 ],
 "metadata": {
  "anaconda-cloud": {},
  "kernelspec": {
   "display_name": "Python 3 (ipykernel)",
   "language": "python",
   "name": "python3"
  },
  "language_info": {
   "codemirror_mode": {
    "name": "ipython",
    "version": 3
   },
   "file_extension": ".py",
   "mimetype": "text/x-python",
   "name": "python",
   "nbconvert_exporter": "python",
   "pygments_lexer": "ipython3",
   "version": "3.10.12"
  }
 },
 "nbformat": 4,
 "nbformat_minor": 1
}
