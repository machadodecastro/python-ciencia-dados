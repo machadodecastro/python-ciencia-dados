{
 "cells": [
  {
   "cell_type": "markdown",
   "metadata": {},
   "source": [
    "# <font color='blue'>Python para Ciência de Dados</font>\n",
    "# <font color='blue'>Capítulo 4</font>\n"
   ]
  },
  {
   "cell_type": "code",
   "execution_count": 1,
   "metadata": {},
   "outputs": [
    {
     "name": "stdout",
     "output_type": "stream",
     "text": [
      "Versão da Linguagem Python usada neste Jupyter Notebook: 3.10.12\n"
     ]
    }
   ],
   "source": [
    "# Versão da Linguagem Python\n",
    "from platform import python_version\n",
    "print('Versão da Linguagem Python usada neste Jupyter Notebook:', python_version())"
   ]
  },
  {
   "cell_type": "markdown",
   "metadata": {},
   "source": [
    "## Listas"
   ]
  },
  {
   "cell_type": "code",
   "execution_count": 2,
   "metadata": {},
   "outputs": [],
   "source": [
    "# Criando listas\n",
    "minha_lista = [1, 2, 3, 4, 5]\n",
    "outra_lista = ['a', 'b', 'c', 'd', 'e']\n",
    "lista_mista = [1, 'a', 2, 'b', 3, 'c']"
   ]
  },
  {
   "cell_type": "code",
   "execution_count": 3,
   "metadata": {},
   "outputs": [
    {
     "name": "stdout",
     "output_type": "stream",
     "text": [
      "[1, 2, 3, 4, 5]\n",
      "['a', 'b', 'c', 'd', 'e']\n",
      "[1, 'a', 2, 'b', 3, 'c']\n"
     ]
    }
   ],
   "source": [
    "# Imprimindo as listas\n",
    "print(minha_lista)\n",
    "print(outra_lista)\n",
    "print(lista_mista)"
   ]
  },
  {
   "cell_type": "code",
   "execution_count": 16,
   "metadata": {},
   "outputs": [
    {
     "data": {
      "text/plain": [
       "[0, 1, 2, 3, 4, 5, 6, 7, 8, 9, 10, 11, 12, 13, 14]"
      ]
     },
     "execution_count": 16,
     "metadata": {},
     "output_type": "execute_result"
    }
   ],
   "source": [
    "# Criando uma lista dinâmica com 15 elementos\n",
    "numeros = list(range(15))\n",
    "\n",
    "numeros"
   ]
  },
  {
   "cell_type": "code",
   "execution_count": 3,
   "metadata": {},
   "outputs": [
    {
     "name": "stdout",
     "output_type": "stream",
     "text": [
      "10\n",
      "30\n"
     ]
    }
   ],
   "source": [
    "# Acessando elementos\n",
    "minha_lista = [10, 20, 30, 40, 50]\n",
    "print(minha_lista[0])   # 10\n",
    "print(minha_lista[2])   # 30"
   ]
  },
  {
   "cell_type": "code",
   "execution_count": 4,
   "metadata": {},
   "outputs": [
    {
     "name": "stdout",
     "output_type": "stream",
     "text": [
      "[1, 2, 10, 4, 5]\n"
     ]
    }
   ],
   "source": [
    "# Atualizando elementos\n",
    "minha_lista = [1, 2, 3, 4, 5]\n",
    "minha_lista[2] = 10\n",
    "print(minha_lista)   # [1, 2, 10, 4, 5]"
   ]
  },
  {
   "cell_type": "code",
   "execution_count": 6,
   "metadata": {},
   "outputs": [
    {
     "name": "stdout",
     "output_type": "stream",
     "text": [
      "[1, 2, 3, 4]\n",
      "[1, 5, 2, 3, 4]\n"
     ]
    }
   ],
   "source": [
    "# Adicionando elementos\n",
    "minha_lista = [1, 2, 3]\n",
    "minha_lista.append(4)\n",
    "print(minha_lista)   # [1, 2, 3, 4]\n",
    "\n",
    "minha_lista.insert(1, 5)\n",
    "print(minha_lista)   # [1, 5, 2, 3, 4] insere na posição 1 o elemento 5"
   ]
  },
  {
   "cell_type": "code",
   "execution_count": 7,
   "metadata": {},
   "outputs": [
    {
     "name": "stdout",
     "output_type": "stream",
     "text": [
      "[1, 2, 4, 5]\n",
      "4\n",
      "[1, 2, 5]\n"
     ]
    }
   ],
   "source": [
    "# Removendo elementos\n",
    "minha_lista = [1, 2, 3, 4, 5]\n",
    "minha_lista.remove(3)\n",
    "print(minha_lista)   # [1, 2, 4, 5]\n",
    "\n",
    "elemento_removido = minha_lista.pop(2)\n",
    "print(elemento_removido)   # 4\n",
    "print(minha_lista)   # [1, 2, 5]"
   ]
  },
  {
   "cell_type": "code",
   "execution_count": 19,
   "metadata": {},
   "outputs": [
    {
     "name": "stdout",
     "output_type": "stream",
     "text": [
      "[1, 2, 3, 4, 5, 6]\n",
      "[1, 2, 3, 1, 2, 3]\n",
      "True\n",
      "False\n"
     ]
    }
   ],
   "source": [
    "# Operações de listas\n",
    "lista1 = [1, 2, 3]\n",
    "lista2 = [4, 5, 6]\n",
    "\n",
    "# concatenando listas\n",
    "lista3 = lista1 + lista2\n",
    "print(lista3)   # [1, 2, 3, 4, 5, 6]\n",
    "\n",
    "lista4 = lista1 * 2\n",
    "print(lista4)   # [1, 2, 3, 1, 2, 3]\n",
    "\n",
    "# verificando se o valor 2 pertence a lista\n",
    "print(2 in lista1)   # True\n",
    "\n",
    "# verificando se o valor 4 pertence a lista\n",
    "print(4 in lista1)   # False"
   ]
  },
  {
   "cell_type": "code",
   "execution_count": 4,
   "metadata": {},
   "outputs": [],
   "source": [
    "# Criando uma lista de listas - listas aninhadas\n",
    "listas = [[1,2,3], [4,5,6], [7,8,9]]"
   ]
  },
  {
   "cell_type": "code",
   "execution_count": 5,
   "metadata": {},
   "outputs": [
    {
     "data": {
      "text/plain": [
       "[[1, 2, 3], [4, 5, 6], [7, 8, 9]]"
      ]
     },
     "execution_count": 5,
     "metadata": {},
     "output_type": "execute_result"
    }
   ],
   "source": [
    "# Imprimindo listas aninhadas\n",
    "listas"
   ]
  },
  {
   "cell_type": "code",
   "execution_count": 7,
   "metadata": {},
   "outputs": [
    {
     "data": {
      "text/plain": [
       "[1, 2, 3]"
      ]
     },
     "execution_count": 7,
     "metadata": {},
     "output_type": "execute_result"
    }
   ],
   "source": [
    "# Atribuindo um item da lista a uma variável\n",
    "x = listas[0]\n",
    "\n",
    "x"
   ]
  },
  {
   "cell_type": "code",
   "execution_count": 8,
   "metadata": {},
   "outputs": [
    {
     "data": {
      "text/plain": [
       "2"
      ]
     },
     "execution_count": 8,
     "metadata": {},
     "output_type": "execute_result"
    }
   ],
   "source": [
    "# Atribuindo um item da lista aninhada a outra variável\n",
    "y = x[1]\n",
    "\n",
    "y"
   ]
  },
  {
   "cell_type": "code",
   "execution_count": 13,
   "metadata": {},
   "outputs": [
    {
     "data": {
      "text/plain": [
       "1"
      ]
     },
     "execution_count": 13,
     "metadata": {},
     "output_type": "execute_result"
    }
   ],
   "source": [
    "# Atribuindo diretamente à variável z, o primeiro valor da primeira lista\n",
    "z = listas[0][0]\n",
    "\n",
    "z"
   ]
  },
  {
   "cell_type": "code",
   "execution_count": 16,
   "metadata": {},
   "outputs": [
    {
     "data": {
      "text/plain": [
       "4"
      ]
     },
     "execution_count": 16,
     "metadata": {},
     "output_type": "execute_result"
    }
   ],
   "source": [
    "# E assim para outras: Atribuindo diretamente à variável z, o primeiro valor da segunda lista\n",
    "z = listas[1][0]\n",
    "\n",
    "z"
   ]
  },
  {
   "cell_type": "code",
   "execution_count": 32,
   "metadata": {},
   "outputs": [],
   "source": [
    "# Criando uma nova lista\n",
    "pares = [2, 4, 100, 6, 8]"
   ]
  },
  {
   "cell_type": "code",
   "execution_count": 35,
   "metadata": {},
   "outputs": [
    {
     "data": {
      "text/plain": [
       "100"
      ]
     },
     "execution_count": 35,
     "metadata": {},
     "output_type": "execute_result"
    }
   ],
   "source": [
    "# Função max() retorna o valor máximo da lista \n",
    "max(pares) "
   ]
  },
  {
   "cell_type": "code",
   "execution_count": 36,
   "metadata": {},
   "outputs": [
    {
     "data": {
      "text/plain": [
       "2"
      ]
     },
     "execution_count": 36,
     "metadata": {},
     "output_type": "execute_result"
    }
   ],
   "source": [
    "# Função min() retorna o valor mínimo da lista\n",
    "min(pares)"
   ]
  },
  {
   "cell_type": "code",
   "execution_count": 47,
   "metadata": {},
   "outputs": [
    {
     "data": {
      "text/plain": [
       "list"
      ]
     },
     "execution_count": 47,
     "metadata": {},
     "output_type": "execute_result"
    }
   ],
   "source": [
    "# Verificando o tipo de objeto\n",
    "type(pares)"
   ]
  },
  {
   "cell_type": "code",
   "execution_count": 49,
   "metadata": {},
   "outputs": [
    {
     "data": {
      "text/plain": [
       "[100, 8, 6, 4, 2]"
      ]
     },
     "execution_count": 49,
     "metadata": {},
     "output_type": "execute_result"
    }
   ],
   "source": [
    "# Reverter ordem da lista\n",
    "pares.reverse()\n",
    "\n",
    "pares"
   ]
  },
  {
   "cell_type": "code",
   "execution_count": 50,
   "metadata": {},
   "outputs": [
    {
     "data": {
      "text/plain": [
       "[2, 4, 6, 8, 100]"
      ]
     },
     "execution_count": 50,
     "metadata": {},
     "output_type": "execute_result"
    }
   ],
   "source": [
    "# Ordenar a lista\n",
    "pares.sort()\n",
    "\n",
    "pares"
   ]
  },
  {
   "cell_type": "markdown",
   "metadata": {},
   "source": [
    "## Dicionários"
   ]
  },
  {
   "cell_type": "code",
   "execution_count": 10,
   "metadata": {},
   "outputs": [
    {
     "data": {
      "text/plain": [
       "{'nome': 'João', 'idade': 30, 'cidade': 'São Paulo'}"
      ]
     },
     "execution_count": 10,
     "metadata": {},
     "output_type": "execute_result"
    }
   ],
   "source": [
    "# Criando dicionário\n",
    "meu_dicionario = {'nome': 'João', 'idade': 30, 'cidade': 'São Paulo'}\n",
    "\n",
    "meu_dicionario"
   ]
  },
  {
   "cell_type": "code",
   "execution_count": 11,
   "metadata": {},
   "outputs": [
    {
     "name": "stdout",
     "output_type": "stream",
     "text": [
      "30\n"
     ]
    }
   ],
   "source": [
    "# Acessando valores\n",
    "print(meu_dicionario['idade'])   # 30"
   ]
  },
  {
   "cell_type": "code",
   "execution_count": 12,
   "metadata": {},
   "outputs": [
    {
     "name": "stdout",
     "output_type": "stream",
     "text": [
      "{'nome': 'João', 'idade': 30, 'cidade': 'São Paulo', 'profissao': 'Engenheiro'}\n",
      "{'nome': 'João', 'idade': 35, 'cidade': 'São Paulo', 'profissao': 'Engenheiro'}\n"
     ]
    }
   ],
   "source": [
    "# Adicionando e atualizando valores\n",
    "meu_dicionario['profissao'] = 'Engenheiro'\n",
    "print(meu_dicionario)   # {'nome': 'João', 'idade': 30, 'cidade': 'São Paulo', 'profissao': 'Engenheiro'}\n",
    "\n",
    "meu_dicionario['idade'] = 35\n",
    "print(meu_dicionario)   # {'nome': 'João', 'idade': 35, 'cidade': 'São Paulo', 'profissao': 'Engenheiro'}"
   ]
  },
  {
   "cell_type": "code",
   "execution_count": 13,
   "metadata": {},
   "outputs": [
    {
     "name": "stdout",
     "output_type": "stream",
     "text": [
      "{'nome': 'João', 'idade': 35, 'profissao': 'Engenheiro'}\n",
      "35\n",
      "{'nome': 'João', 'profissao': 'Engenheiro'}\n"
     ]
    }
   ],
   "source": [
    "# Removendo pares chave-valor\n",
    "del meu_dicionario['cidade']\n",
    "print(meu_dicionario)   # {'nome': 'João', 'idade': 35, 'profissao': 'Engenheiro'}\n",
    "\n",
    "valor_removido = meu_dicionario.pop('idade')\n",
    "print(valor_removido)   # 35\n",
    "print(meu_dicionario)   # {'nome': 'João', 'profissao': 'Engenheiro'}"
   ]
  },
  {
   "cell_type": "code",
   "execution_count": 14,
   "metadata": {},
   "outputs": [
    {
     "name": "stdout",
     "output_type": "stream",
     "text": [
      "dict_keys(['nome', 'profissao'])\n",
      "dict_values(['João', 'Engenheiro'])\n",
      "dict_items([('nome', 'João'), ('profissao', 'Engenheiro')])\n",
      "Chave não encontrada\n"
     ]
    }
   ],
   "source": [
    "# Métodos de dicionário\n",
    "print(meu_dicionario.keys())     # dict_keys(['nome', 'profissao'])\n",
    "\n",
    "\n",
    "print(meu_dicionario.values())   # dict_values(['João', 'Engenheiro'])\n",
    "\n",
    "\n",
    "print(meu_dicionario.items())    # dict_items([('nome', 'João'), ('profissao', 'Engenheiro')])\n",
    "\n",
    "print(meu_dicionario.get('idade', 'Chave não encontrada'))   # Chave não encontrada"
   ]
  },
  {
   "cell_type": "markdown",
   "metadata": {},
   "source": [
    "## Tuplas"
   ]
  },
  {
   "cell_type": "code",
   "execution_count": 17,
   "metadata": {},
   "outputs": [],
   "source": [
    "# Criando tuplas\n",
    "minha_tupla = (1, 2, 3, 4, 5)\n",
    "outra_tupla = ('a', 'b', 'c', 'd', 'e')"
   ]
  },
  {
   "cell_type": "code",
   "execution_count": 18,
   "metadata": {},
   "outputs": [
    {
     "name": "stdout",
     "output_type": "stream",
     "text": [
      "10\n",
      "30\n"
     ]
    }
   ],
   "source": [
    "# Acessando elementos\n",
    "minha_tupla = (10, 20, 30, 40, 50)\n",
    "print(minha_tupla[0])   # 10\n",
    "print(minha_tupla[2])   # 30"
   ]
  },
  {
   "cell_type": "code",
   "execution_count": 19,
   "metadata": {},
   "outputs": [
    {
     "name": "stdout",
     "output_type": "stream",
     "text": [
      "(3, 4, 5)\n"
     ]
    }
   ],
   "source": [
    "# Fatiando tuplas\n",
    "minha_tupla = (1, 2, 3, 4, 5)\n",
    "print(minha_tupla[2:5])   # (3, 4, 5)"
   ]
  },
  {
   "cell_type": "code",
   "execution_count": 20,
   "metadata": {},
   "outputs": [
    {
     "name": "stdout",
     "output_type": "stream",
     "text": [
      "(1, 2, 3, 4, 5, 6)\n",
      "(1, 2, 3, 1, 2, 3)\n",
      "True\n",
      "False\n"
     ]
    }
   ],
   "source": [
    "# Operações com tuplas\n",
    "tupla1 = (1, 2, 3)\n",
    "tupla2 = (4, 5, 6)\n",
    "tupla3 = tupla1 + tupla2\n",
    "print(tupla3)   # (1, 2, 3, 4, 5, 6)\n",
    "\n",
    "tupla4 = tupla1 * 2\n",
    "print(tupla4)   # (1, 2, 3, 1, 2, 3)\n",
    "\n",
    "print(2 in tupla1)   # True\n",
    "print(4 in tupla1)   # False"
   ]
  },
  {
   "cell_type": "code",
   "execution_count": 21,
   "metadata": {},
   "outputs": [
    {
     "name": "stdout",
     "output_type": "stream",
     "text": [
      "10\n",
      "20\n",
      "30\n"
     ]
    }
   ],
   "source": [
    "# Desempacotamento de tuplas\n",
    "minha_tupla = (10, 20, 30)\n",
    "a, b, c = minha_tupla\n",
    "print(a)   # 10\n",
    "print(b)   # 20\n",
    "print(c)   # 30"
   ]
  },
  {
   "cell_type": "markdown",
   "metadata": {},
   "source": [
    "# Fim"
   ]
  }
 ],
 "metadata": {
  "anaconda-cloud": {},
  "kernelspec": {
   "display_name": "Python 3 (ipykernel)",
   "language": "python",
   "name": "python3"
  },
  "language_info": {
   "codemirror_mode": {
    "name": "ipython",
    "version": 3
   },
   "file_extension": ".py",
   "mimetype": "text/x-python",
   "name": "python",
   "nbconvert_exporter": "python",
   "pygments_lexer": "ipython3",
   "version": "3.10.12"
  }
 },
 "nbformat": 4,
 "nbformat_minor": 1
}
