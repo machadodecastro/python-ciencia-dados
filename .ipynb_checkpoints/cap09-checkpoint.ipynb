{
 "cells": [
  {
   "cell_type": "markdown",
   "metadata": {},
   "source": [
    "# <font color='blue'>Python para Ciência de Dados</font>\n",
    "# <font color='blue'>Capítulo 9</font>\n"
   ]
  },
  {
   "cell_type": "code",
   "execution_count": 1,
   "metadata": {},
   "outputs": [
    {
     "name": "stdout",
     "output_type": "stream",
     "text": [
      "Versão da Linguagem Python usada neste Jupyter Notebook: 3.10.12\n"
     ]
    }
   ],
   "source": [
    "# Versão da Linguagem Python\n",
    "from platform import python_version\n",
    "print('Versão da Linguagem Python usada neste Jupyter Notebook:', python_version())"
   ]
  },
  {
   "cell_type": "markdown",
   "metadata": {},
   "source": [
    "## Classes e Objetos"
   ]
  },
  {
   "cell_type": "markdown",
   "metadata": {},
   "source": [
    "### Classes"
   ]
  },
  {
   "cell_type": "code",
   "execution_count": 20,
   "metadata": {},
   "outputs": [],
   "source": [
    "# Criando uma classe\n",
    "\n",
    "class Pessoa:\n",
    "    def __init__(self, nome, idade):\n",
    "        self.nome = nome\n",
    "        self.idade = idade\n",
    "\n",
    "    def exibir_informacoes(self):\n",
    "        print(f\"Nome: {self.nome}, Idade: {self.idade}\")\n",
    "        \n",
    "    def apresentar(self):\n",
    "        print(f\"Olá, meu nome é {self.nome} e tenho {self.idade} anos.\")"
   ]
  },
  {
   "cell_type": "markdown",
   "metadata": {},
   "source": [
    "### Atributos e Métodos"
   ]
  },
  {
   "cell_type": "code",
   "execution_count": 22,
   "metadata": {},
   "outputs": [
    {
     "name": "stdout",
     "output_type": "stream",
     "text": [
      "Nome: Ada Lovelace, Idade: 37\n",
      "Olá, meu nome é Charles Babbage e tenho 80 anos.\n"
     ]
    }
   ],
   "source": [
    "# Criando um objeto da classe Pessoa\n",
    "pessoa1 = Pessoa(\"Ada Lovelace\", 37)\n",
    "\n",
    "# Acessando atributos e chamando métodos do objeto\n",
    "pessoa1.exibir_informacoes()  # Saída: Nome: Ada Lovelace, Idade: 37\n",
    "\n",
    "# Criando outro objeto da classe Pessoa\n",
    "pessoa2 = Pessoa(\"Charles Babbage\", 80)\n",
    "\n",
    "# Acessando atributos e chamando outros métodos do objeto\n",
    "pessoa2.apresentar()  # Saída: Olá, meu nome é Charles Babbage e tenho 80 anos.\n"
   ]
  },
  {
   "cell_type": "code",
   "execution_count": 23,
   "metadata": {},
   "outputs": [
    {
     "name": "stdout",
     "output_type": "stream",
     "text": [
      "Ada Lovelace\n",
      "80\n",
      "Olá, meu nome é Ada Lovelace e tenho 37 anos.\n",
      "Olá, meu nome é Charles Babbage e tenho 80 anos.\n"
     ]
    }
   ],
   "source": [
    "# Acessando atributos\n",
    "print(pessoa1.nome)    # Saída: Ada Lovelace\n",
    "print(pessoa2.idade)   # Saída: 80\n",
    "\n",
    "# Chamando métodos\n",
    "pessoa1.apresentar()   # Saída: Olá, meu nome é Ada Lovelace e tenho 37 anos.\n",
    "pessoa2.apresentar()   # Saída: Olá, meu nome é Charles Babbage e tenho 80 anos."
   ]
  },
  {
   "cell_type": "markdown",
   "metadata": {},
   "source": [
    "### Atributos"
   ]
  },
  {
   "cell_type": "code",
   "execution_count": 27,
   "metadata": {},
   "outputs": [
    {
     "name": "stdout",
     "output_type": "stream",
     "text": [
      "Ada Lovelace\n",
      "37\n",
      "Humano\n"
     ]
    }
   ],
   "source": [
    "# Atributos de Classe e atributos de Instância\n",
    "\n",
    "class Pessoa:\n",
    "    # Atributo de Classe\n",
    "    especie = \"Humano\"\n",
    "\n",
    "    def __init__(self, nome, idade):\n",
    "        # Atributos de Instância\n",
    "        self.nome = nome\n",
    "        self.idade = idade\n",
    "\n",
    "# Criando uma instância da classe Pessoa\n",
    "p1 = Pessoa(\"Ada Lovelace\", 37)\n",
    "\n",
    "# Acessando atributos\n",
    "print(p1.nome)    # Saída: Ada Lovelace\n",
    "print(p1.idade)   # Saída: 37\n",
    "print(Pessoa.especie)  # Saída: Humano"
   ]
  },
  {
   "cell_type": "markdown",
   "metadata": {},
   "source": [
    "### Métodos"
   ]
  },
  {
   "cell_type": "code",
   "execution_count": 28,
   "metadata": {},
   "outputs": [
    {
     "name": "stdout",
     "output_type": "stream",
     "text": [
      "8\n",
      "15\n",
      "-2\n"
     ]
    }
   ],
   "source": [
    "class Calculadora:\n",
    "    def soma(self, a, b):\n",
    "        return a + b\n",
    "\n",
    "    @classmethod\n",
    "    def multiplicacao(cls, a, b):\n",
    "        return a * b\n",
    "\n",
    "    @staticmethod\n",
    "    def subtracao(a, b):\n",
    "        return a - b\n",
    "\n",
    "# Criando uma instância da classe Calculadora\n",
    "calc = Calculadora()\n",
    "\n",
    "# Chamando os métodos\n",
    "print(calc.soma(3, 5))            # Saída: 8\n",
    "print(Calculadora.multiplicacao(3, 5))  # Saída: 15\n",
    "print(Calculadora.subtracao(3, 5))      # Saída: -2"
   ]
  },
  {
   "cell_type": "markdown",
   "metadata": {},
   "source": [
    "### Método __init__"
   ]
  },
  {
   "cell_type": "code",
   "execution_count": 32,
   "metadata": {},
   "outputs": [
    {
     "name": "stdout",
     "output_type": "stream",
     "text": [
      "Turing\n",
      "30\n"
     ]
    }
   ],
   "source": [
    "class Pessoa:\n",
    "    def __init__(self, nome, idade):\n",
    "        self.nome = nome\n",
    "        self.idade = idade\n",
    "\n",
    "# Cria uma instância da classe Pessoa\n",
    "pessoa1 = Pessoa(\"Turing\", 30)\n",
    "\n",
    "# Acessar atributos da instância\n",
    "print(pessoa1.nome) # Imprimir: Turing\n",
    "print(pessoa1.idade) # Imprimir: 30"
   ]
  },
  {
   "cell_type": "markdown",
   "metadata": {},
   "source": [
    "### Métodos Especiais"
   ]
  },
  {
   "cell_type": "code",
   "execution_count": 52,
   "metadata": {},
   "outputs": [
    {
     "name": "stdout",
     "output_type": "stream",
     "text": [
      "Python for Beginners por John Doe\n",
      "Livro('Python for Beginners', 'John Doe')\n",
      "20\n",
      "P\n",
      "python for Beginners por John Doe\n",
      "pythonfor Beginners por John Doe\n"
     ]
    }
   ],
   "source": [
    "class Livro:\n",
    "    def __init__(self, titulo, autor):\n",
    "        self.titulo = titulo\n",
    "        self.autor = autor\n",
    "\n",
    "    def __str__(self):\n",
    "        return f\"{self.titulo} por {self.autor}\"\n",
    "\n",
    "    def __repr__(self):\n",
    "        return f\"Livro('{self.titulo}', '{self.autor}')\"\n",
    "\n",
    "    def __len__(self):\n",
    "        return len(self.titulo)\n",
    "\n",
    "    def __getitem__(self, index):\n",
    "        return self.titulo[index]\n",
    "\n",
    "    def __setitem__(self, index, valor):\n",
    "        novo_titulo = list(self.titulo)\n",
    "        novo_titulo[index] = valor\n",
    "        self.titulo = ''.join(novo_titulo)\n",
    "\n",
    "    def __delitem__(self, index):\n",
    "        novo_titulo = list(self.titulo)\n",
    "        del novo_titulo[index]\n",
    "        self.titulo = ''.join(novo_titulo)\n",
    "\n",
    "# Criando uma instância da classe Livro\n",
    "livro = Livro(\"Python for Beginners\", \"John Doe\")\n",
    "\n",
    "# Utilizando métodos especiais\n",
    "print(str(livro))          # Saída: Python for Beginners por John Doe\n",
    "print(repr(livro))         # Saída: Livro('Python for Beginners', 'John Doe')\n",
    "print(len(livro))          # Saída: 20\n",
    "print(livro[0])            # Saída: P\n",
    "livro[0] = 'p'             # Alterando o primeiro caractere do título\n",
    "print(livro)               # Saída: python for Beginners por John Doe\n",
    "del livro[6]               # Removendo o espaço em branco do título\n",
    "print(livro)               # Saída: pythonfor Beginners por John Doe"
   ]
  },
  {
   "cell_type": "markdown",
   "metadata": {},
   "source": [
    "### Encapsulamento"
   ]
  },
  {
   "cell_type": "code",
   "execution_count": 36,
   "metadata": {},
   "outputs": [
    {
     "name": "stdout",
     "output_type": "stream",
     "text": [
      "Este é um método privado.\n"
     ]
    }
   ],
   "source": [
    "# Encapsulamento\n",
    "class MinhaClasse:\n",
    "    def __init__(self):\n",
    "        self._atributo_privado = 10\n",
    "\n",
    "    def _metodo_privado(self):\n",
    "        return \"Este é um método privado.\"\n",
    "\n",
    "    def metodo_publico(self):\n",
    "        return self._metodo_privado()  # Métodos públicos podem chamar métodos privados\n",
    "\n",
    "# Exemplo de uso da classe\n",
    "objeto = MinhaClasse()\n",
    "print(objeto.metodo_publico())  # Saída: Este é um método privado."
   ]
  },
  {
   "cell_type": "code",
   "execution_count": 37,
   "metadata": {},
   "outputs": [
    {
     "name": "stdout",
     "output_type": "stream",
     "text": [
      "Marca: Toyota\n",
      "Modelo: Corolla\n",
      "Ano: 2020\n",
      "Ano: 2020\n",
      "Novo ano: 2022\n"
     ]
    }
   ],
   "source": [
    "# Encapsulamento fraco e forte\n",
    "class Carro:\n",
    "    def __init__(self, marca, modelo, ano):\n",
    "        self.marca = marca        # Atributo público\n",
    "        self.modelo = modelo      # Atributo público\n",
    "        self.__ano = ano          # Atributo privado\n",
    "\n",
    "    # Método público para obter o ano\n",
    "    def obter_ano(self):\n",
    "        return self.__ano\n",
    "\n",
    "    # Método público para definir o ano\n",
    "    def definir_ano(self, novo_ano):\n",
    "        self.__ano = novo_ano\n",
    "\n",
    "# Criando uma instância da classe Carro\n",
    "meu_carro = Carro(\"Toyota\", \"Corolla\", 2020)\n",
    "\n",
    "# Acesso aos atributos públicos\n",
    "print(\"Marca:\", meu_carro.marca)\n",
    "print(\"Modelo:\", meu_carro.modelo)\n",
    "\n",
    "# Tentativa de acessar um atributo privado (encapsulamento fraco)\n",
    "# Isso funciona, mas não é recomendado\n",
    "print(\"Ano:\", meu_carro._Carro__ano)  \n",
    "\n",
    "# Tentativa de acessar um atributo privado (encapsulamento forte)\n",
    "# Isso não funciona, pois o nome do atributo foi alterado internamente\n",
    "# print(\"Ano:\", meu_carro.__ano)  \n",
    "\n",
    "# Acesso ao atributo privado através de um método público\n",
    "print(\"Ano:\", meu_carro.obter_ano())\n",
    "\n",
    "# Alterando o ano através de um método público\n",
    "meu_carro.definir_ano(2022)\n",
    "print(\"Novo ano:\", meu_carro.obter_ano())"
   ]
  },
  {
   "cell_type": "markdown",
   "metadata": {},
   "source": [
    "### Herança"
   ]
  },
  {
   "cell_type": "code",
   "execution_count": 38,
   "metadata": {},
   "outputs": [],
   "source": [
    "class ClassePai:\n",
    "    def metodo_pai(self):\n",
    "        print(\"Este é um método da classe pai.\")\n",
    "\n",
    "class ClasseFilha(ClassePai):\n",
    "    def metodo_filho(self):\n",
    "        print(\"Este é um método da classe filha.\")\n"
   ]
  },
  {
   "cell_type": "code",
   "execution_count": 39,
   "metadata": {},
   "outputs": [
    {
     "name": "stdout",
     "output_type": "stream",
     "text": [
      "Este é um método da classe pai.\n",
      "Este é um método da classe pai.\n",
      "Este é um método da classe filha.\n"
     ]
    }
   ],
   "source": [
    "pai = ClassePai()\n",
    "filho = ClasseFilha()\n",
    "\n",
    "pai.metodo_pai()   # Saída: Este é um método da classe pai.\n",
    "filho.metodo_pai()  # Saída: Este é um método da classe pai. (herdado da classe pai)\n",
    "filho.metodo_filho()  # Saída: Este é um método da classe filha."
   ]
  },
  {
   "cell_type": "code",
   "execution_count": 40,
   "metadata": {},
   "outputs": [],
   "source": [
    "# Herança\n",
    "\n",
    "class Aluno(Pessoa): # Herda da classe Pessoa acima criada\n",
    "    def __init__(self, nome, idade, matricula):\n",
    "        super().__init__(nome, idade)\n",
    "        self.matricula = matricula\n",
    "\n",
    "    def exibir_informacoes(self):\n",
    "        print(f\"Nome: {self.nome}, Idade: {self.idade}, Matrícula: {self.matricula}\")"
   ]
  },
  {
   "cell_type": "code",
   "execution_count": 41,
   "metadata": {},
   "outputs": [
    {
     "name": "stdout",
     "output_type": "stream",
     "text": [
      "Nome: Babage, Idade: 50, Matrícula: 01010101\n"
     ]
    }
   ],
   "source": [
    "# Instanciando um objeto com herança\n",
    "\n",
    "# Criando um objeto da classe Pessoa\n",
    "pessoa2 = Aluno(\"Babage\", 50, '01010101')\n",
    "\n",
    "pessoa2.exibir_informacoes()"
   ]
  },
  {
   "cell_type": "code",
   "execution_count": 44,
   "metadata": {},
   "outputs": [
    {
     "name": "stdout",
     "output_type": "stream",
     "text": [
      "Método da classe pai.\n",
      "Método da classe filha.\n"
     ]
    }
   ],
   "source": [
    "# Herança com Sobrescrita de método\n",
    "class ClassePai:\n",
    "    def metodo(self):\n",
    "        print(\"Método da classe pai.\")\n",
    "\n",
    "class ClasseFilha(ClassePai):\n",
    "    def metodo(self):\n",
    "        print(\"Método da classe filha.\")\n",
    "\n",
    "pai = ClassePai()\n",
    "filho = ClasseFilha()\n",
    "\n",
    "pai.metodo()   # Saída: Método da classe pai.\n",
    "filho.metodo()  # Saída: Método da classe filha. (método sobrescrito na classe filha)"
   ]
  },
  {
   "cell_type": "code",
   "execution_count": 45,
   "metadata": {},
   "outputs": [
    {
     "name": "stdout",
     "output_type": "stream",
     "text": [
      "Método da classe pai 1.\n",
      "Método da classe pai 2.\n",
      "Método da classe filha.\n"
     ]
    }
   ],
   "source": [
    "# Herança múltipla\n",
    "class ClassePai1:\n",
    "    def metodo_pai1(self):\n",
    "        print(\"Método da classe pai 1.\")\n",
    "\n",
    "class ClassePai2:\n",
    "    def metodo_pai2(self):\n",
    "        print(\"Método da classe pai 2.\")\n",
    "\n",
    "class ClasseFilha(ClassePai1, ClassePai2):\n",
    "    def metodo_filho(self):\n",
    "        print(\"Método da classe filha.\")\n",
    "\n",
    "filha = ClasseFilha()\n",
    "filha.metodo_pai1()  # Saída: Método da classe pai 1.\n",
    "filha.metodo_pai2()  # Saída: Método da classe pai 2.\n",
    "filha.metodo_filho()  # Saída: Método da classe filha."
   ]
  },
  {
   "cell_type": "markdown",
   "metadata": {},
   "source": [
    "### Polimosfismo"
   ]
  },
  {
   "cell_type": "code",
   "execution_count": 46,
   "metadata": {},
   "outputs": [
    {
     "name": "stdout",
     "output_type": "stream",
     "text": [
      "Nome: Alan, Idade: 25, Matrícula: A12345\n"
     ]
    }
   ],
   "source": [
    "# Polimorfiismo\n",
    "\n",
    "pessoa3 = Aluno(\"Alan\", 25, \"A12345\")\n",
    "pessoa3.exibir_informacoes()  # Saída: Nome: Alan, Idade: 25, Matrícula: A12345"
   ]
  },
  {
   "cell_type": "code",
   "execution_count": 47,
   "metadata": {},
   "outputs": [
    {
     "name": "stdout",
     "output_type": "stream",
     "text": [
      "Latido\n",
      "Miado\n"
     ]
    }
   ],
   "source": [
    "# Polimorfismo com Sobrescrita de Método (Override)\n",
    "\n",
    "class Animal:\n",
    "    def fazer_som(self):\n",
    "        print(\"Som genérico de animal\")\n",
    "\n",
    "class Cachorro(Animal):\n",
    "    def fazer_som(self):\n",
    "        print(\"Latido\")\n",
    "\n",
    "class Gato(Animal):\n",
    "    def fazer_som(self):\n",
    "        print(\"Miado\")\n",
    "\n",
    "animais = [Cachorro(), Gato()]\n",
    "\n",
    "\n",
    "for animal in animais:\n",
    "       animal.fazer_som()  # Chama o método fazer_som de cada objeto"
   ]
  },
  {
   "cell_type": "code",
   "execution_count": 48,
   "metadata": {},
   "outputs": [
    {
     "name": "stdout",
     "output_type": "stream",
     "text": [
      "Quack\n",
      "Ouch\n"
     ]
    }
   ],
   "source": [
    "# Polimorfismo com Duck Typing\n",
    "\n",
    "class Pato:\n",
    "    def fazer_som(self):\n",
    "        print(\"Quack\")\n",
    "\n",
    "class Pessoa:\n",
    "    def fazer_som(self):\n",
    "        print(\"Ouch\")\n",
    "\n",
    "def chamar_fazer_som(objeto):\n",
    "    objeto.fazer_som()  # Chama o método fazer_som do objeto\n",
    "\n",
    "pato = Pato()\n",
    "pessoa = Pessoa()\n",
    "\n",
    "chamar_fazer_som(pato)    # Saída: Quack\n",
    "chamar_fazer_som(pessoa)  # Saída: Ouch\n",
    "\n"
   ]
  },
  {
   "cell_type": "code",
   "execution_count": 49,
   "metadata": {},
   "outputs": [
    {
     "name": "stdout",
     "output_type": "stream",
     "text": [
      "(4, 6)\n"
     ]
    }
   ],
   "source": [
    "# Polimorfismo com Sobrecarga de Operadores\n",
    "\n",
    "class Ponto:\n",
    "    def __init__(self, x, y):\n",
    "        self.x = x\n",
    "        self.y = y\n",
    "\n",
    "    def __add__(self, other):\n",
    "        return Ponto(self.x + other.x, self.y + other.y)\n",
    "\n",
    "ponto1 = Ponto(1, 2)\n",
    "ponto2 = Ponto(3, 4)\n",
    "ponto3 = ponto1 + ponto2  # Chama o método __add__ da classe Ponto\n",
    "\n",
    "\n",
    "print(f\"({ponto3.x}, {ponto3.y})\")  # Saída: (4, 6)"
   ]
  },
  {
   "cell_type": "markdown",
   "metadata": {},
   "source": [
    "### Associação"
   ]
  },
  {
   "cell_type": "code",
   "execution_count": 50,
   "metadata": {},
   "outputs": [
    {
     "name": "stdout",
     "output_type": "stream",
     "text": [
      "Professor da disciplina de Matemática: Dr. Silva\n",
      "Estou ensinando!\n"
     ]
    }
   ],
   "source": [
    "# Classe Professor\n",
    "class Professor:\n",
    "    def __init__(self, nome):\n",
    "        self.nome = nome\n",
    "\n",
    "    def ensinar(self):\n",
    "        return \"Estou ensinando!\"\n",
    "\n",
    "# Classe Disciplina\n",
    "class Disciplina:\n",
    "    def __init__(self, nome, professor):\n",
    "        self.nome = nome\n",
    "        self.professor = professor\n",
    "\n",
    "    def obter_nome_professor(self):\n",
    "        return self.professor.nome\n",
    "\n",
    "# Criando instâncias das classes\n",
    "professor = Professor(\"Dr. Silva\")\n",
    "disciplina = Disciplina(\"Matemática\", professor)\n",
    "\n",
    "# Utilizando a associação\n",
    "print(f\"Professor da disciplina de {disciplina.nome}: {disciplina.obter_nome_professor()}\")\n",
    "print(professor.ensinar())"
   ]
  },
  {
   "cell_type": "markdown",
   "metadata": {},
   "source": [
    "### Composição"
   ]
  },
  {
   "cell_type": "code",
   "execution_count": 51,
   "metadata": {},
   "outputs": [
    {
     "name": "stdout",
     "output_type": "stream",
     "text": [
      "Marca: Toyota\n",
      "Modelo: Corolla\n",
      "Tipo de motor: gasolina\n",
      "Motor ligado\n",
      "Motor desligado\n"
     ]
    }
   ],
   "source": [
    "class Motor:\n",
    "    def __init__(self, tipo):\n",
    "        self.tipo = tipo\n",
    "\n",
    "    def ligar(self):\n",
    "        return \"Motor ligado\"\n",
    "\n",
    "    def desligar(self):\n",
    "        return \"Motor desligado\"\n",
    "\n",
    "class Carro:\n",
    "    def __init__(self, marca, modelo, motor_tipo):\n",
    "        self.marca = marca\n",
    "        self.modelo = modelo\n",
    "        self.motor = Motor(motor_tipo)  # Composição: um carro tem um motor\n",
    "\n",
    "    def ligar_carro(self):\n",
    "        return self.motor.ligar()\n",
    "\n",
    "    def desligar_carro(self):\n",
    "        return self.motor.desligar()\n",
    "\n",
    "# Criando uma instância da classe Carro\n",
    "meu_carro = Carro(\"Toyota\", \"Corolla\", \"gasolina\")\n",
    "\n",
    "# Acessando atributos e métodos através da composição\n",
    "print(\"Marca:\", meu_carro.marca)\n",
    "print(\"Modelo:\", meu_carro.modelo)\n",
    "print(\"Tipo de motor:\", meu_carro.motor.tipo)\n",
    "print(meu_carro.ligar_carro())\n",
    "print(meu_carro.desligar_carro())"
   ]
  },
  {
   "cell_type": "markdown",
   "metadata": {},
   "source": [
    "## Fim"
   ]
  },
  {
   "cell_type": "code",
   "execution_count": null,
   "metadata": {},
   "outputs": [],
   "source": []
  }
 ],
 "metadata": {
  "anaconda-cloud": {},
  "kernelspec": {
   "display_name": "Python 3 (ipykernel)",
   "language": "python",
   "name": "python3"
  },
  "language_info": {
   "codemirror_mode": {
    "name": "ipython",
    "version": 3
   },
   "file_extension": ".py",
   "mimetype": "text/x-python",
   "name": "python",
   "nbconvert_exporter": "python",
   "pygments_lexer": "ipython3",
   "version": "3.10.12"
  }
 },
 "nbformat": 4,
 "nbformat_minor": 1
}
