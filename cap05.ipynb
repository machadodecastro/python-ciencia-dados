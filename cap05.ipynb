{
 "cells": [
  {
   "cell_type": "markdown",
   "metadata": {},
   "source": [
    "# <font color='blue'>Python para Ciência de Dados</font>\n",
    "# <font color='blue'>Capítulo 5</font>\n"
   ]
  },
  {
   "cell_type": "code",
   "execution_count": 1,
   "metadata": {},
   "outputs": [
    {
     "name": "stdout",
     "output_type": "stream",
     "text": [
      "Versão da Linguagem Python usada neste Jupyter Notebook: 3.10.12\n"
     ]
    }
   ],
   "source": [
    "# Versão da Linguagem Python\n",
    "from platform import python_version\n",
    "print('Versão da Linguagem Python usada neste Jupyter Notebook:', python_version())"
   ]
  },
  {
   "cell_type": "markdown",
   "metadata": {},
   "source": [
    "## Estruturas condicionais - if / elif / else"
   ]
  },
  {
   "cell_type": "code",
   "execution_count": 2,
   "metadata": {},
   "outputs": [
    {
     "name": "stdout",
     "output_type": "stream",
     "text": [
      "Você é maior de idade.\n"
     ]
    }
   ],
   "source": [
    "# Validando uma condição verdadeira\n",
    "idade = 20\n",
    "if idade >= 18:\n",
    "    print(\"Você é maior de idade.\")"
   ]
  },
  {
   "cell_type": "code",
   "execution_count": 3,
   "metadata": {},
   "outputs": [
    {
     "name": "stdout",
     "output_type": "stream",
     "text": [
      "Você é menor de idade.\n"
     ]
    }
   ],
   "source": [
    "# Validando uma condição verdadeira e outra falsa\n",
    "idade = 16\n",
    "if idade >= 18:\n",
    "    print(\"Você é maior de idade.\")\n",
    "else:\n",
    "    print(\"Você é menor de idade.\")"
   ]
  },
  {
   "cell_type": "code",
   "execution_count": 4,
   "metadata": {},
   "outputs": [
    {
     "name": "stdout",
     "output_type": "stream",
     "text": [
      "C\n"
     ]
    }
   ],
   "source": [
    "# Validando várias condições com elif\n",
    "nota = 75\n",
    "if nota >= 90:\n",
    "    print(\"A\")\n",
    "elif nota >= 80:\n",
    "    print(\"B\")\n",
    "elif nota >= 70:\n",
    "    print(\"C\")\n",
    "else:\n",
    "    print(\"D\")"
   ]
  },
  {
   "cell_type": "markdown",
   "metadata": {},
   "source": [
    "## Estruturas de repetição"
   ]
  },
  {
   "cell_type": "markdown",
   "metadata": {},
   "source": [
    "### Loop For"
   ]
  },
  {
   "cell_type": "code",
   "execution_count": 5,
   "metadata": {},
   "outputs": [
    {
     "name": "stdout",
     "output_type": "stream",
     "text": [
      "Alice\n",
      "Bob\n",
      "Carol\n"
     ]
    }
   ],
   "source": [
    "# Iterando elementos com 'for'\n",
    "nomes = ['Alice', 'Bob', 'Carol']\n",
    "for nome in nomes:\n",
    "    print(nome)"
   ]
  },
  {
   "cell_type": "code",
   "execution_count": 7,
   "metadata": {},
   "outputs": [
    {
     "name": "stdout",
     "output_type": "stream",
     "text": [
      "0\n",
      "1\n",
      "2\n",
      "3\n",
      "4\n",
      "5\n",
      "6\n",
      "7\n",
      "8\n",
      "9\n"
     ]
    }
   ],
   "source": [
    "# Imprimindo os valores no intervalo entre 0 e 10 (exclusive)\n",
    "for contador in range(0,10):\n",
    "    print(contador)"
   ]
  },
  {
   "cell_type": "code",
   "execution_count": 8,
   "metadata": {},
   "outputs": [
    {
     "name": "stdout",
     "output_type": "stream",
     "text": [
      "2\n",
      "4\n",
      "6\n",
      "8\n",
      "10\n"
     ]
    }
   ],
   "source": [
    "# Imprimindo na tela apenas os números pares da lista\n",
    "lista = [1,2,3,4,5,6,7,8,9,10]\n",
    "for x in lista:\n",
    "    if x % 2 == 0:\n",
    "        print (x)"
   ]
  },
  {
   "cell_type": "code",
   "execution_count": 9,
   "metadata": {},
   "outputs": [
    {
     "name": "stdout",
     "output_type": "stream",
     "text": [
      "0\n",
      "5\n",
      "10\n",
      "15\n",
      "20\n",
      "25\n",
      "30\n",
      "35\n",
      "40\n",
      "45\n"
     ]
    }
   ],
   "source": [
    "# Listando os números no intervalo entre 0 e 50, com incremento em 5\n",
    "for i in range(0,50,5):  \n",
    "    print(i)"
   ]
  },
  {
   "cell_type": "code",
   "execution_count": 10,
   "metadata": {},
   "outputs": [
    {
     "name": "stdout",
     "output_type": "stream",
     "text": [
      "P\n",
      "y\n",
      "t\n",
      "h\n",
      "o\n",
      "n\n",
      " \n",
      "p\n",
      "a\n",
      "r\n",
      "a\n",
      " \n",
      "C\n",
      "i\n",
      "ê\n",
      "n\n",
      "c\n",
      "i\n",
      "a\n",
      " \n",
      "d\n",
      "e\n",
      " \n",
      "D\n",
      "a\n",
      "d\n",
      "o\n",
      "s\n"
     ]
    }
   ],
   "source": [
    "# Iterando com strings\n",
    "for x in 'Python para Ciência de Dados':\n",
    "    print (x)"
   ]
  },
  {
   "cell_type": "code",
   "execution_count": 17,
   "metadata": {},
   "outputs": [
    {
     "name": "stdout",
     "output_type": "stream",
     "text": [
      "0\n",
      "1\n",
      "2\n",
      "0\n",
      "1\n",
      "2\n",
      "0\n",
      "1\n",
      "2\n",
      "0\n",
      "1\n",
      "2\n",
      "0\n",
      "1\n",
      "2\n"
     ]
    }
   ],
   "source": [
    "# Loops aninhados\n",
    "for x in range(0,5): # vou imprimir cinco vezes\n",
    "    for y in range(0,3): # a sequência de 0 a 3 (exclusive)\n",
    "        print(y)"
   ]
  },
  {
   "cell_type": "code",
   "execution_count": 18,
   "metadata": {},
   "outputs": [
    {
     "name": "stdout",
     "output_type": "stream",
     "text": [
      "Número encontrado na lista!\n"
     ]
    }
   ],
   "source": [
    "# Pesquisando em listas\n",
    "lista = [5, 10, 15, 20, 25]\n",
    "\n",
    "# Loop através da lista\n",
    "for x in lista:\n",
    "    if x == 15:\n",
    "        print(\"Número encontrado na lista!\")"
   ]
  },
  {
   "cell_type": "code",
   "execution_count": 22,
   "metadata": {},
   "outputs": [
    {
     "name": "stdout",
     "output_type": "stream",
     "text": [
      "k1\n",
      "k2\n",
      "k3\n"
     ]
    }
   ],
   "source": [
    "# Listando as chaves de um dicionário\n",
    "dict = {'k1':'Hadoop','k2':'Spark','k3':'Snowflake'}\n",
    "for k in dict:\n",
    "    print(k)"
   ]
  },
  {
   "cell_type": "code",
   "execution_count": 23,
   "metadata": {},
   "outputs": [
    {
     "name": "stdout",
     "output_type": "stream",
     "text": [
      "k1 Hadoop\n",
      "k2 Spark\n",
      "k3 Snowflake\n"
     ]
    }
   ],
   "source": [
    "# Imprimindo chave e valor do dicionário. Usando o método items() para retornar os itens de um dicionário\n",
    "for k,v in dict.items():\n",
    "    print (k,v)"
   ]
  },
  {
   "cell_type": "markdown",
   "metadata": {},
   "source": [
    "### Loop While"
   ]
  },
  {
   "cell_type": "code",
   "execution_count": 24,
   "metadata": {},
   "outputs": [
    {
     "name": "stdout",
     "output_type": "stream",
     "text": [
      "0\n",
      "1\n",
      "2\n",
      "3\n",
      "4\n"
     ]
    }
   ],
   "source": [
    "# Iterando com 'while'\n",
    "contador = 0\n",
    "while contador < 5:\n",
    "    print(contador)\n",
    "    contador += 1"
   ]
  },
  {
   "cell_type": "code",
   "execution_count": 28,
   "metadata": {},
   "outputs": [
    {
     "name": "stdout",
     "output_type": "stream",
     "text": [
      "O valor de x nesta iteração é:  0\n",
      "0  ainda é menor que 10 \n",
      "\n",
      "O valor de x nesta iteração é:  1\n",
      "1  ainda é menor que 10 \n",
      "\n",
      "O valor de x nesta iteração é:  2\n",
      "2  ainda é menor que 10 \n",
      "\n",
      "O valor de x nesta iteração é:  3\n",
      "3  ainda é menor que 10 \n",
      "\n",
      "O valor de x nesta iteração é:  4\n",
      "4  ainda é menor que 10 \n",
      "\n",
      "O valor de x nesta iteração é:  5\n",
      "5  ainda é menor que 10 \n",
      "\n",
      "O valor de x nesta iteração é:  6\n",
      "6  ainda é menor que 10 \n",
      "\n",
      "O valor de x nesta iteração é:  7\n",
      "7  ainda é menor que 10 \n",
      "\n",
      "O valor de x nesta iteração é:  8\n",
      "8  ainda é menor que 10 \n",
      "\n",
      "O valor de x nesta iteração é:  9\n",
      "9  ainda é menor que 10 \n",
      "\n",
      "Loop concluído!\n"
     ]
    }
   ],
   "source": [
    "# Usando claúsulas else para encerrar o loop while\n",
    "x = 0\n",
    "\n",
    "while x < 10:\n",
    "    print ('O valor de x nesta iteração é: ', x)\n",
    "    print (x, ' ainda é menor que 10', '\\n')\n",
    "    x += 1\n",
    "    \n",
    "else:\n",
    "    print ('Loop concluído!')"
   ]
  },
  {
   "cell_type": "markdown",
   "metadata": {},
   "source": [
    "### Pass, Break, Continue"
   ]
  },
  {
   "cell_type": "code",
   "execution_count": 29,
   "metadata": {},
   "outputs": [
    {
     "name": "stdout",
     "output_type": "stream",
     "text": [
      "0\n",
      "1\n",
      "2\n",
      "3\n",
      "4\n",
      "5\n",
      "6\n",
      "7\n"
     ]
    }
   ],
   "source": [
    "counter = 0\n",
    "while counter < 100:\n",
    "    if counter == 8:\n",
    "        break\n",
    "    else:\n",
    "        pass\n",
    "    print(counter)\n",
    "    counter = counter + 1"
   ]
  },
  {
   "cell_type": "code",
   "execution_count": 30,
   "metadata": {},
   "outputs": [
    {
     "name": "stdout",
     "output_type": "stream",
     "text": [
      "P\n",
      "y\n",
      "t\n",
      "o\n",
      "n\n"
     ]
    }
   ],
   "source": [
    "for verificador in \"Python\":\n",
    "    if verificador == \"h\":\n",
    "        continue\n",
    "    print(verificador)"
   ]
  },
  {
   "cell_type": "code",
   "execution_count": 31,
   "metadata": {},
   "outputs": [
    {
     "name": "stdout",
     "output_type": "stream",
     "text": [
      "2 é um número primo\n",
      "3 é um número primo\n",
      "5 é um número primo\n",
      "7 é um número primo\n"
     ]
    }
   ],
   "source": [
    "# Estruturas while e for juntas\n",
    "for i in range(2,10):\n",
    "    j = 2\n",
    "    counter = 0\n",
    "    while j < i:\n",
    "        if i % j == 0:\n",
    "            counter = 1\n",
    "            j = j + 1\n",
    "        else:\n",
    "            j = j + 1\n",
    "    \n",
    "    if counter == 0:\n",
    "        print(str(i) + \" é um número primo\")\n",
    "        counter = 0\n",
    "    else:\n",
    "        counter = 0"
   ]
  },
  {
   "cell_type": "markdown",
   "metadata": {},
   "source": [
    "### Função built-in range()"
   ]
  },
  {
   "cell_type": "code",
   "execution_count": 32,
   "metadata": {},
   "outputs": [
    {
     "name": "stdout",
     "output_type": "stream",
     "text": [
      "0\n",
      "2\n",
      "4\n",
      "6\n",
      "8\n",
      "10\n",
      "12\n",
      "14\n",
      "16\n",
      "18\n",
      "20\n",
      "22\n",
      "24\n",
      "26\n",
      "28\n",
      "30\n",
      "32\n",
      "34\n",
      "36\n",
      "38\n",
      "40\n",
      "42\n",
      "44\n",
      "46\n",
      "48\n",
      "50\n",
      "52\n",
      "54\n",
      "56\n",
      "58\n",
      "60\n",
      "62\n",
      "64\n",
      "66\n",
      "68\n",
      "70\n",
      "72\n",
      "74\n",
      "76\n",
      "78\n",
      "80\n",
      "82\n",
      "84\n",
      "86\n",
      "88\n",
      "90\n",
      "92\n",
      "94\n",
      "96\n",
      "98\n"
     ]
    }
   ],
   "source": [
    "# Imprimindo números pares entre 0 e 100\n",
    "for i in range(0, 100, 2):\n",
    "    print(i)"
   ]
  },
  {
   "cell_type": "code",
   "execution_count": 34,
   "metadata": {},
   "outputs": [
    {
     "name": "stdout",
     "output_type": "stream",
     "text": [
      "3\n",
      "4\n",
      "5\n",
      "6\n",
      "7\n",
      "8\n"
     ]
    }
   ],
   "source": [
    "# Assim como nas listas, o último elemento é exclusivo, ou seja, não é incluído\n",
    "for i in range(3, 9):\n",
    "    print (i)"
   ]
  },
  {
   "cell_type": "code",
   "execution_count": 42,
   "metadata": {},
   "outputs": [
    {
     "name": "stdout",
     "output_type": "stream",
     "text": [
      "0\n",
      "-2\n",
      "-4\n",
      "-6\n",
      "-8\n"
     ]
    }
   ],
   "source": [
    "# range com número negativos de 2 em 2\n",
    "for i in range(0, -10, -2):\n",
    "    print(i)"
   ]
  },
  {
   "cell_type": "code",
   "execution_count": 39,
   "metadata": {},
   "outputs": [
    {
     "name": "stdout",
     "output_type": "stream",
     "text": [
      "Spark\n",
      "Hadoop\n",
      "Snowflake\n",
      "Databricks\n"
     ]
    }
   ],
   "source": [
    "# Trabalhando com uma lista de strings\n",
    "lista = ['Spark', 'Hadoop', 'Snowflake', 'Databricks']\n",
    "lista_tamanho = len(lista)\n",
    "for i in range(0, lista_tamanho):\n",
    "    print(lista[i])"
   ]
  },
  {
   "cell_type": "code",
   "execution_count": 45,
   "metadata": {},
   "outputs": [
    {
     "data": {
      "text/plain": [
       "range"
      ]
     },
     "execution_count": 45,
     "metadata": {},
     "output_type": "execute_result"
    }
   ],
   "source": [
    "# Verificando o objeto\n",
    "# Em Python, tudo é um objeto\n",
    "type(range(0,5))"
   ]
  },
  {
   "cell_type": "markdown",
   "metadata": {},
   "source": [
    "## Métodos"
   ]
  },
  {
   "cell_type": "code",
   "execution_count": 46,
   "metadata": {},
   "outputs": [
    {
     "name": "stdout",
     "output_type": "stream",
     "text": [
      "Este é um método da classe\n"
     ]
    }
   ],
   "source": [
    "class MinhaClasse:\n",
    "    def meu_metodo(self):\n",
    "        print(\"Este é um método da classe\")\n",
    "\n",
    "# Criando uma instância da classe\n",
    "objeto = MinhaClasse()\n",
    "\n",
    "# Chamando o método\n",
    "objeto.meu_metodo()"
   ]
  },
  {
   "cell_type": "code",
   "execution_count": 47,
   "metadata": {},
   "outputs": [
    {
     "name": "stdout",
     "output_type": "stream",
     "text": [
      "8\n"
     ]
    }
   ],
   "source": [
    "class Calculadora:\n",
    "    def somar(self, a, b):\n",
    "        return a + b\n",
    "\n",
    "# Criando uma instância da classe\n",
    "calc = Calculadora()\n",
    "\n",
    "# Chamando o método com parâmetros\n",
    "resultado = calc.somar(5, 3)\n",
    "print(resultado)   # Saída: 8"
   ]
  },
  {
   "cell_type": "code",
   "execution_count": 48,
   "metadata": {},
   "outputs": [
    {
     "name": "stdout",
     "output_type": "stream",
     "text": [
      "Objeto da classe MinhaClasse com nome: Exemplo\n"
     ]
    }
   ],
   "source": [
    "class MinhaClasse:\n",
    "    def __init__(self, nome):\n",
    "        self.nome = nome\n",
    "\n",
    "    def __str__(self):\n",
    "        return f\"Objeto da classe MinhaClasse com nome: {self.nome}\"\n",
    "\n",
    "# Criando uma instância da classe\n",
    "objeto = MinhaClasse(\"Exemplo\")\n",
    "\n",
    "# Chamando o método especial __str__()\n",
    "print(objeto)   # Saída: Objeto da classe MinhaClasse com nome: Exemplo"
   ]
  },
  {
   "cell_type": "code",
   "execution_count": 60,
   "metadata": {},
   "outputs": [
    {
     "data": {
      "text/plain": [
       "[0, 2, 4, 6, 8, 10, 10]"
      ]
     },
     "execution_count": 60,
     "metadata": {},
     "output_type": "execute_result"
    }
   ],
   "source": [
    "# Criando uma lista\n",
    "lista = [0, 2, 4, 6, 8, 10]\n",
    "\n",
    "# Usando um método do objeto lista\n",
    "lista.append(10)\n",
    "\n",
    "# Imprimindo a lista\n",
    "lista"
   ]
  },
  {
   "cell_type": "code",
   "execution_count": 61,
   "metadata": {},
   "outputs": [
    {
     "data": {
      "text/plain": [
       "2"
      ]
     },
     "execution_count": 61,
     "metadata": {},
     "output_type": "execute_result"
    }
   ],
   "source": [
    "# Usando um método do objeto lista. Retorna o número de ocorrências do valor\n",
    "lista.count(10)"
   ]
  },
  {
   "cell_type": "code",
   "execution_count": 62,
   "metadata": {},
   "outputs": [
    {
     "name": "stdout",
     "output_type": "stream",
     "text": [
      "Help on built-in function count:\n",
      "\n",
      "count(value, /) method of builtins.list instance\n",
      "    Return number of occurrences of value.\n",
      "\n"
     ]
    }
   ],
   "source": [
    "# A função help() explica como utilizar cada método de um objeto\n",
    "help(lista.count)"
   ]
  },
  {
   "cell_type": "code",
   "execution_count": 63,
   "metadata": {},
   "outputs": [
    {
     "data": {
      "text/plain": [
       "['__add__',\n",
       " '__class__',\n",
       " '__class_getitem__',\n",
       " '__contains__',\n",
       " '__delattr__',\n",
       " '__delitem__',\n",
       " '__dir__',\n",
       " '__doc__',\n",
       " '__eq__',\n",
       " '__format__',\n",
       " '__ge__',\n",
       " '__getattribute__',\n",
       " '__getitem__',\n",
       " '__gt__',\n",
       " '__hash__',\n",
       " '__iadd__',\n",
       " '__imul__',\n",
       " '__init__',\n",
       " '__init_subclass__',\n",
       " '__iter__',\n",
       " '__le__',\n",
       " '__len__',\n",
       " '__lt__',\n",
       " '__mul__',\n",
       " '__ne__',\n",
       " '__new__',\n",
       " '__reduce__',\n",
       " '__reduce_ex__',\n",
       " '__repr__',\n",
       " '__reversed__',\n",
       " '__rmul__',\n",
       " '__setattr__',\n",
       " '__setitem__',\n",
       " '__sizeof__',\n",
       " '__str__',\n",
       " '__subclasshook__',\n",
       " 'append',\n",
       " 'clear',\n",
       " 'copy',\n",
       " 'count',\n",
       " 'extend',\n",
       " 'index',\n",
       " 'insert',\n",
       " 'pop',\n",
       " 'remove',\n",
       " 'reverse',\n",
       " 'sort']"
      ]
     },
     "execution_count": 63,
     "metadata": {},
     "output_type": "execute_result"
    }
   ],
   "source": [
    "# A função dir() mostra todos os métodos e atributos de um objeto\n",
    "dir(lista)"
   ]
  },
  {
   "cell_type": "code",
   "execution_count": 65,
   "metadata": {},
   "outputs": [
    {
     "name": "stdout",
     "output_type": "stream",
     "text": [
      "['Isso', 'é', 'uma', 'string']\n"
     ]
    }
   ],
   "source": [
    "# Definindo uma string\n",
    "s = 'Isso é uma string'\n",
    "\n",
    "# Chamando o método split() dentro de uma função print()\n",
    "print (s.split())"
   ]
  },
  {
   "cell_type": "markdown",
   "metadata": {},
   "source": [
    "## Funções"
   ]
  },
  {
   "cell_type": "code",
   "execution_count": 67,
   "metadata": {},
   "outputs": [],
   "source": [
    "# Definindo a função\n",
    "def minha_funcao(parametro1, parametro2):\n",
    "    # Corpo da função\n",
    "    resultado = parametro1 + parametro2\n",
    "    return resultado"
   ]
  },
  {
   "cell_type": "code",
   "execution_count": 68,
   "metadata": {},
   "outputs": [
    {
     "name": "stdout",
     "output_type": "stream",
     "text": [
      "30\n"
     ]
    }
   ],
   "source": [
    "# Chamando a função\n",
    "resultado = minha_funcao(10, 20)\n",
    "print(resultado)   # Saída: 30"
   ]
  },
  {
   "cell_type": "code",
   "execution_count": 69,
   "metadata": {},
   "outputs": [
    {
     "name": "stdout",
     "output_type": "stream",
     "text": [
      "Olá, mundo\n",
      "Olá, Alice\n"
     ]
    }
   ],
   "source": [
    "# Definindo parâmetros padrões\n",
    "def saudacao(nome=\"mundo\"): # parâmetro padrão definido, caso não haja outro\n",
    "    print(\"Olá,\", nome)\n",
    "\n",
    "saudacao()   # Saída: Olá, mundo\n",
    "saudacao(\"Alice\")   # Saída: Olá, Alice"
   ]
  },
  {
   "cell_type": "code",
   "execution_count": 82,
   "metadata": {},
   "outputs": [
    {
     "name": "stdout",
     "output_type": "stream",
     "text": [
      "A média é: 30.0\n"
     ]
    }
   ],
   "source": [
    "# Retorno de valores\n",
    "def calcular_media(numeros):\n",
    "    total = sum(numeros)\n",
    "    media = total / len(numeros)\n",
    "    return media\n",
    "\n",
    "lista = [10, 20, 30, 40, 50]\n",
    "media = calcular_media(lista)\n",
    "print(\"A média é:\", media)   # Saída: A média é: 30.0"
   ]
  },
  {
   "cell_type": "code",
   "execution_count": 91,
   "metadata": {},
   "outputs": [
    {
     "name": "stdout",
     "output_type": "stream",
     "text": [
      "10\n",
      "20\n"
     ]
    }
   ],
   "source": [
    "# Escopo das variáveis\n",
    "x = 10   # Variável global\n",
    "\n",
    "def minha_funcao():\n",
    "    y = 20   # Variável local\n",
    "    print(x)   # Acesso à variável global\n",
    "    print(y)   # Acesso à variável local\n",
    "\n",
    "minha_funcao()   # Saída: 10 20"
   ]
  },
  {
   "cell_type": "code",
   "execution_count": 92,
   "metadata": {},
   "outputs": [],
   "source": [
    "# Documentação de funções\n",
    "def minha_funcao(parametro):\n",
    "    \"\"\"\n",
    "    Esta função recebe um parâmetro e retorna o dobro desse parâmetro.\n",
    "    \"\"\"\n",
    "    return parametro * 2"
   ]
  },
  {
   "cell_type": "markdown",
   "metadata": {},
   "source": [
    "### Funções Lambda"
   ]
  },
  {
   "cell_type": "code",
   "execution_count": 96,
   "metadata": {},
   "outputs": [
    {
     "name": "stdout",
     "output_type": "stream",
     "text": [
      "8\n"
     ]
    }
   ],
   "source": [
    "soma = lambda x, y: x + y\n",
    "print(soma(3, 5))  # Saída: 8"
   ]
  },
  {
   "cell_type": "code",
   "execution_count": 97,
   "metadata": {},
   "outputs": [
    {
     "name": "stdout",
     "output_type": "stream",
     "text": [
      "[2, 4, 6, 8, 10]\n"
     ]
    }
   ],
   "source": [
    "# Usadas com função map()\n",
    "lista = [1, 2, 3, 4, 5]\n",
    "nova_lista = list(map(lambda x: x * 2, lista))\n",
    "print(nova_lista)  # Saída: [2, 4, 6, 8, 10]"
   ]
  },
  {
   "cell_type": "code",
   "execution_count": 98,
   "metadata": {},
   "outputs": [
    {
     "name": "stdout",
     "output_type": "stream",
     "text": [
      "[2, 4]\n"
     ]
    }
   ],
   "source": [
    "# Usadas com a função filter()\n",
    "lista = [1, 2, 3, 4, 5]\n",
    "nova_lista = list(filter(lambda x: x % 2 == 0, lista))\n",
    "print(nova_lista)  # Saída: [2, 4]"
   ]
  },
  {
   "cell_type": "code",
   "execution_count": 101,
   "metadata": {},
   "outputs": [
    {
     "name": "stdout",
     "output_type": "stream",
     "text": [
      "15\n"
     ]
    }
   ],
   "source": [
    "# Usadas com a função reduce()\n",
    "from functools import reduce\n",
    "lista = [1, 2, 3, 4, 5]\n",
    "resultado = reduce(lambda x, y: x + y, lista)\n",
    "print(resultado)  # Saída: 15 (1 + 2 + 3 + 4 + 5)"
   ]
  },
  {
   "cell_type": "markdown",
   "metadata": {},
   "source": [
    "# Fim"
   ]
  }
 ],
 "metadata": {
  "anaconda-cloud": {},
  "kernelspec": {
   "display_name": "Python 3 (ipykernel)",
   "language": "python",
   "name": "python3"
  },
  "language_info": {
   "codemirror_mode": {
    "name": "ipython",
    "version": 3
   },
   "file_extension": ".py",
   "mimetype": "text/x-python",
   "name": "python",
   "nbconvert_exporter": "python",
   "pygments_lexer": "ipython3",
   "version": "3.10.12"
  }
 },
 "nbformat": 4,
 "nbformat_minor": 1
}
